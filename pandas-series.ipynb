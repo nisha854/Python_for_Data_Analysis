{
 "cells": [
  {
   "cell_type": "code",
   "execution_count": 1,
   "id": "bd5eafa1",
   "metadata": {
    "_cell_guid": "b1076dfc-b9ad-4769-8c92-a6c4dae69d19",
    "_uuid": "8f2839f25d086af736a60e9eeb907d3b93b6e0e5",
    "execution": {
     "iopub.execute_input": "2023-04-10T10:26:27.386940Z",
     "iopub.status.busy": "2023-04-10T10:26:27.386318Z",
     "iopub.status.idle": "2023-04-10T10:26:27.394622Z",
     "shell.execute_reply": "2023-04-10T10:26:27.393650Z"
    },
    "papermill": {
     "duration": 0.044916,
     "end_time": "2023-04-10T10:26:27.396637",
     "exception": false,
     "start_time": "2023-04-10T10:26:27.351721",
     "status": "completed"
    },
    "tags": []
   },
   "outputs": [],
   "source": [
    "import pandas as pd"
   ]
  },
  {
   "cell_type": "markdown",
   "id": "d8d0e4b6",
   "metadata": {
    "papermill": {
     "duration": 0.028648,
     "end_time": "2023-04-10T10:26:27.457103",
     "exception": false,
     "start_time": "2023-04-10T10:26:27.428455",
     "status": "completed"
    },
    "tags": []
   },
   "source": [
    "**Creating series using list**"
   ]
  },
  {
   "cell_type": "code",
   "execution_count": 2,
   "id": "56f2e66c",
   "metadata": {
    "execution": {
     "iopub.execute_input": "2023-04-10T10:26:27.510543Z",
     "iopub.status.busy": "2023-04-10T10:26:27.510208Z",
     "iopub.status.idle": "2023-04-10T10:26:27.521711Z",
     "shell.execute_reply": "2023-04-10T10:26:27.520561Z"
    },
    "papermill": {
     "duration": 0.040882,
     "end_time": "2023-04-10T10:26:27.523763",
     "exception": false,
     "start_time": "2023-04-10T10:26:27.482881",
     "status": "completed"
    },
    "tags": []
   },
   "outputs": [
    {
     "data": {
      "text/plain": [
       "0     ramesh\n",
       "1     suresh\n",
       "2    praksah\n",
       "3      nisha\n",
       "dtype: object"
      ]
     },
     "execution_count": 2,
     "metadata": {},
     "output_type": "execute_result"
    }
   ],
   "source": [
    "l1=[\"ramesh\",\"suresh\",\"praksah\",\"nisha\"]\n",
    "s1=pd.Series(l1)\n",
    "s1\n",
    "#in series string data type referred to as object"
   ]
  },
  {
   "cell_type": "code",
   "execution_count": 3,
   "id": "5662a481",
   "metadata": {
    "execution": {
     "iopub.execute_input": "2023-04-10T10:26:27.576644Z",
     "iopub.status.busy": "2023-04-10T10:26:27.575751Z",
     "iopub.status.idle": "2023-04-10T10:26:27.583680Z",
     "shell.execute_reply": "2023-04-10T10:26:27.582914Z"
    },
    "papermill": {
     "duration": 0.036303,
     "end_time": "2023-04-10T10:26:27.585549",
     "exception": false,
     "start_time": "2023-04-10T10:26:27.549246",
     "status": "completed"
    },
    "tags": []
   },
   "outputs": [
    {
     "data": {
      "text/plain": [
       "0    20\n",
       "1    45\n",
       "2     3\n",
       "3    45\n",
       "4    67\n",
       "dtype: int64"
      ]
     },
     "execution_count": 3,
     "metadata": {},
     "output_type": "execute_result"
    }
   ],
   "source": [
    "l2=[20,45,3,45,67]\n",
    "s2=pd.Series(l2)\n",
    "s2"
   ]
  },
  {
   "cell_type": "code",
   "execution_count": 4,
   "id": "37e2f6d6",
   "metadata": {
    "execution": {
     "iopub.execute_input": "2023-04-10T10:26:27.639398Z",
     "iopub.status.busy": "2023-04-10T10:26:27.638308Z",
     "iopub.status.idle": "2023-04-10T10:26:27.645677Z",
     "shell.execute_reply": "2023-04-10T10:26:27.644944Z"
    },
    "papermill": {
     "duration": 0.036435,
     "end_time": "2023-04-10T10:26:27.647807",
     "exception": false,
     "start_time": "2023-04-10T10:26:27.611372",
     "status": "completed"
    },
    "tags": []
   },
   "outputs": [
    {
     "data": {
      "text/plain": [
       "0     True\n",
       "1    False\n",
       "2     True\n",
       "3    False\n",
       "dtype: bool"
      ]
     },
     "execution_count": 4,
     "metadata": {},
     "output_type": "execute_result"
    }
   ],
   "source": [
    "l3=[True,False,True,False]\n",
    "s3=pd.Series(l3)\n",
    "s3"
   ]
  },
  {
   "cell_type": "code",
   "execution_count": 5,
   "id": "14a9dc4a",
   "metadata": {
    "execution": {
     "iopub.execute_input": "2023-04-10T10:26:27.702211Z",
     "iopub.status.busy": "2023-04-10T10:26:27.700733Z",
     "iopub.status.idle": "2023-04-10T10:26:27.710048Z",
     "shell.execute_reply": "2023-04-10T10:26:27.709275Z"
    },
    "papermill": {
     "duration": 0.038854,
     "end_time": "2023-04-10T10:26:27.712315",
     "exception": false,
     "start_time": "2023-04-10T10:26:27.673461",
     "status": "completed"
    },
    "tags": []
   },
   "outputs": [
    {
     "data": {
      "text/plain": [
       "0    rekha\n",
       "1       23\n",
       "2     45.6\n",
       "3     True\n",
       "dtype: object"
      ]
     },
     "execution_count": 5,
     "metadata": {},
     "output_type": "execute_result"
    }
   ],
   "source": [
    "s4=pd.Series([\"rekha\",23,45.6,True])\n",
    "s4"
   ]
  },
  {
   "cell_type": "code",
   "execution_count": 6,
   "id": "59cd3183",
   "metadata": {
    "execution": {
     "iopub.execute_input": "2023-04-10T10:26:27.766096Z",
     "iopub.status.busy": "2023-04-10T10:26:27.765453Z",
     "iopub.status.idle": "2023-04-10T10:26:27.772518Z",
     "shell.execute_reply": "2023-04-10T10:26:27.771619Z"
    },
    "papermill": {
     "duration": 0.036169,
     "end_time": "2023-04-10T10:26:27.774421",
     "exception": false,
     "start_time": "2023-04-10T10:26:27.738252",
     "status": "completed"
    },
    "tags": []
   },
   "outputs": [
    {
     "data": {
      "text/plain": [
       "0    23.50\n",
       "1    45.60\n",
       "2    33.56\n",
       "dtype: float64"
      ]
     },
     "execution_count": 6,
     "metadata": {},
     "output_type": "execute_result"
    }
   ],
   "source": [
    "s5=pd.Series([23.5,45.6,33.56])\n",
    "s5"
   ]
  },
  {
   "cell_type": "markdown",
   "id": "97407242",
   "metadata": {
    "papermill": {
     "duration": 0.026058,
     "end_time": "2023-04-10T10:26:27.827558",
     "exception": false,
     "start_time": "2023-04-10T10:26:27.801500",
     "status": "completed"
    },
    "tags": []
   },
   "source": [
    "**Creating series using Dictionary**"
   ]
  },
  {
   "cell_type": "code",
   "execution_count": 7,
   "id": "54836967",
   "metadata": {
    "execution": {
     "iopub.execute_input": "2023-04-10T10:26:27.881673Z",
     "iopub.status.busy": "2023-04-10T10:26:27.881321Z",
     "iopub.status.idle": "2023-04-10T10:26:27.888923Z",
     "shell.execute_reply": "2023-04-10T10:26:27.887631Z"
    },
    "papermill": {
     "duration": 0.03667,
     "end_time": "2023-04-10T10:26:27.890967",
     "exception": false,
     "start_time": "2023-04-10T10:26:27.854297",
     "status": "completed"
    },
    "tags": []
   },
   "outputs": [
    {
     "data": {
      "text/plain": [
       "{'Bangalore': 1234564,\n",
       " 'Pune': 234867,\n",
       " 'chennai': 89763452,\n",
       " 'Jaipur': 34547588,\n",
       " 'Bhopal': 3748596600}"
      ]
     },
     "execution_count": 7,
     "metadata": {},
     "output_type": "execute_result"
    }
   ],
   "source": [
    "D1={\n",
    "    \"Bangalore\":1234564,\n",
    "    \"Pune\": 234867,\n",
    "    \"chennai\":89763452,\n",
    "    \"Jaipur\": 34547588,\n",
    "    \"Bhopal\": 3748596600\n",
    "}\n",
    "D1"
   ]
  },
  {
   "cell_type": "code",
   "execution_count": 8,
   "id": "87891ca4",
   "metadata": {
    "execution": {
     "iopub.execute_input": "2023-04-10T10:26:27.944731Z",
     "iopub.status.busy": "2023-04-10T10:26:27.944335Z",
     "iopub.status.idle": "2023-04-10T10:26:27.955507Z",
     "shell.execute_reply": "2023-04-10T10:26:27.954605Z"
    },
    "papermill": {
     "duration": 0.041113,
     "end_time": "2023-04-10T10:26:27.958159",
     "exception": false,
     "start_time": "2023-04-10T10:26:27.917046",
     "status": "completed"
    },
    "tags": []
   },
   "outputs": [
    {
     "data": {
      "text/plain": [
       "Bangalore       1234564\n",
       "Pune             234867\n",
       "chennai        89763452\n",
       "Jaipur         34547588\n",
       "Bhopal       3748596600\n",
       "Name: population, dtype: int64"
      ]
     },
     "execution_count": 8,
     "metadata": {},
     "output_type": "execute_result"
    }
   ],
   "source": [
    "s6=pd.Series(D1, name='population')\n",
    "s6"
   ]
  },
  {
   "cell_type": "markdown",
   "id": "47df46b2",
   "metadata": {
    "papermill": {
     "duration": 0.025981,
     "end_time": "2023-04-10T10:26:28.010974",
     "exception": false,
     "start_time": "2023-04-10T10:26:27.984993",
     "status": "completed"
    },
    "tags": []
   },
   "source": [
    "**Customized index**"
   ]
  },
  {
   "cell_type": "code",
   "execution_count": 9,
   "id": "d4d68037",
   "metadata": {
    "execution": {
     "iopub.execute_input": "2023-04-10T10:26:28.067560Z",
     "iopub.status.busy": "2023-04-10T10:26:28.066478Z",
     "iopub.status.idle": "2023-04-10T10:26:28.072144Z",
     "shell.execute_reply": "2023-04-10T10:26:28.071412Z"
    },
    "papermill": {
     "duration": 0.035793,
     "end_time": "2023-04-10T10:26:28.074037",
     "exception": false,
     "start_time": "2023-04-10T10:26:28.038244",
     "status": "completed"
    },
    "tags": []
   },
   "outputs": [],
   "source": [
    "age=[23,45,34,76,45]\n",
    "ind=['a','b','c','d','e']"
   ]
  },
  {
   "cell_type": "code",
   "execution_count": 10,
   "id": "4d5815d5",
   "metadata": {
    "execution": {
     "iopub.execute_input": "2023-04-10T10:26:28.128999Z",
     "iopub.status.busy": "2023-04-10T10:26:28.127796Z",
     "iopub.status.idle": "2023-04-10T10:26:28.136443Z",
     "shell.execute_reply": "2023-04-10T10:26:28.135060Z"
    },
    "papermill": {
     "duration": 0.038608,
     "end_time": "2023-04-10T10:26:28.138893",
     "exception": false,
     "start_time": "2023-04-10T10:26:28.100285",
     "status": "completed"
    },
    "tags": []
   },
   "outputs": [
    {
     "data": {
      "text/plain": [
       "a    23\n",
       "b    45\n",
       "c    34\n",
       "d    76\n",
       "e    45\n",
       "dtype: int64"
      ]
     },
     "execution_count": 10,
     "metadata": {},
     "output_type": "execute_result"
    }
   ],
   "source": [
    "S=pd.Series(age, index=ind)  #by giving the second argument in series \"index=\" we can make personalized index.\n",
    "S"
   ]
  },
  {
   "cell_type": "markdown",
   "id": "1cd3053e",
   "metadata": {
    "papermill": {
     "duration": 0.027784,
     "end_time": "2023-04-10T10:26:28.193227",
     "exception": false,
     "start_time": "2023-04-10T10:26:28.165443",
     "status": "completed"
    },
    "tags": []
   },
   "source": [
    "**Creating series using read csv**"
   ]
  },
  {
   "cell_type": "code",
   "execution_count": 11,
   "id": "61a800e8",
   "metadata": {
    "execution": {
     "iopub.execute_input": "2023-04-10T10:26:28.248724Z",
     "iopub.status.busy": "2023-04-10T10:26:28.247624Z",
     "iopub.status.idle": "2023-04-10T10:26:28.284356Z",
     "shell.execute_reply": "2023-04-10T10:26:28.283306Z"
    },
    "papermill": {
     "duration": 0.066543,
     "end_time": "2023-04-10T10:26:28.286296",
     "exception": false,
     "start_time": "2023-04-10T10:26:28.219753",
     "status": "completed"
    },
    "tags": []
   },
   "outputs": [
    {
     "data": {
      "text/plain": [
       "0                                                  Tides\n",
       "1                                                Shivers\n",
       "2                                            First Times\n",
       "3                                             Bad Habits\n",
       "4                                      Overpass Graffiti\n",
       "                             ...                        \n",
       "651                                    Radio (feat. JME)\n",
       "652                      Little Lady (feat. Mikill Pane)\n",
       "653               Drown Me Out (feat. Ghetts) - + Ghetts\n",
       "654    Nightmares (feat. Random Impulse, Sway & Wretc...\n",
       "655                    Goodbye to You (feat. Dot Rotten)\n",
       "Name: name, Length: 656, dtype: object"
      ]
     },
     "execution_count": 11,
     "metadata": {},
     "output_type": "execute_result"
    }
   ],
   "source": [
    "s=pd.read_csv('/kaggle/input/ed-sheeran-spotify-dataset/ed_sheeran_spotify.csv', usecols=['name'], squeeze=True)\n",
    "s"
   ]
  },
  {
   "cell_type": "markdown",
   "id": "16f34fd5",
   "metadata": {
    "papermill": {
     "duration": 0.025413,
     "end_time": "2023-04-10T10:26:28.337719",
     "exception": false,
     "start_time": "2023-04-10T10:26:28.312306",
     "status": "completed"
    },
    "tags": []
   },
   "source": [
    "**Attributes**"
   ]
  },
  {
   "cell_type": "code",
   "execution_count": 12,
   "id": "f8567d52",
   "metadata": {
    "execution": {
     "iopub.execute_input": "2023-04-10T10:26:28.393255Z",
     "iopub.status.busy": "2023-04-10T10:26:28.392439Z",
     "iopub.status.idle": "2023-04-10T10:26:28.400517Z",
     "shell.execute_reply": "2023-04-10T10:26:28.399484Z"
    },
    "papermill": {
     "duration": 0.038572,
     "end_time": "2023-04-10T10:26:28.402462",
     "exception": false,
     "start_time": "2023-04-10T10:26:28.363890",
     "status": "completed"
    },
    "tags": []
   },
   "outputs": [
    {
     "data": {
      "text/plain": [
       "Bangalore       1234564\n",
       "Pune             234867\n",
       "chennai        89763452\n",
       "Jaipur         34547588\n",
       "Bhopal       3748596600\n",
       "Name: population, dtype: int64"
      ]
     },
     "execution_count": 12,
     "metadata": {},
     "output_type": "execute_result"
    }
   ],
   "source": [
    "s6\n"
   ]
  },
  {
   "cell_type": "code",
   "execution_count": 13,
   "id": "17fe654f",
   "metadata": {
    "execution": {
     "iopub.execute_input": "2023-04-10T10:26:28.458796Z",
     "iopub.status.busy": "2023-04-10T10:26:28.458254Z",
     "iopub.status.idle": "2023-04-10T10:26:28.465376Z",
     "shell.execute_reply": "2023-04-10T10:26:28.463946Z"
    },
    "papermill": {
     "duration": 0.038649,
     "end_time": "2023-04-10T10:26:28.467906",
     "exception": false,
     "start_time": "2023-04-10T10:26:28.429257",
     "status": "completed"
    },
    "tags": []
   },
   "outputs": [
    {
     "data": {
      "text/plain": [
       "array([   1234564,     234867,   89763452,   34547588, 3748596600])"
      ]
     },
     "execution_count": 13,
     "metadata": {},
     "output_type": "execute_result"
    }
   ],
   "source": [
    "s6.values"
   ]
  },
  {
   "cell_type": "code",
   "execution_count": 14,
   "id": "578f0500",
   "metadata": {
    "execution": {
     "iopub.execute_input": "2023-04-10T10:26:28.522282Z",
     "iopub.status.busy": "2023-04-10T10:26:28.521910Z",
     "iopub.status.idle": "2023-04-10T10:26:28.528778Z",
     "shell.execute_reply": "2023-04-10T10:26:28.527664Z"
    },
    "papermill": {
     "duration": 0.036528,
     "end_time": "2023-04-10T10:26:28.531039",
     "exception": false,
     "start_time": "2023-04-10T10:26:28.494511",
     "status": "completed"
    },
    "tags": []
   },
   "outputs": [
    {
     "data": {
      "text/plain": [
       "Index(['Bangalore', 'Pune', 'chennai', 'Jaipur', 'Bhopal'], dtype='object')"
      ]
     },
     "execution_count": 14,
     "metadata": {},
     "output_type": "execute_result"
    }
   ],
   "source": [
    "s6.index"
   ]
  },
  {
   "cell_type": "code",
   "execution_count": 15,
   "id": "42e68060",
   "metadata": {
    "execution": {
     "iopub.execute_input": "2023-04-10T10:26:28.588079Z",
     "iopub.status.busy": "2023-04-10T10:26:28.587456Z",
     "iopub.status.idle": "2023-04-10T10:26:28.593302Z",
     "shell.execute_reply": "2023-04-10T10:26:28.592550Z"
    },
    "papermill": {
     "duration": 0.036682,
     "end_time": "2023-04-10T10:26:28.595021",
     "exception": false,
     "start_time": "2023-04-10T10:26:28.558339",
     "status": "completed"
    },
    "tags": []
   },
   "outputs": [
    {
     "data": {
      "text/plain": [
       "dtype('int64')"
      ]
     },
     "execution_count": 15,
     "metadata": {},
     "output_type": "execute_result"
    }
   ],
   "source": [
    "s6.dtype"
   ]
  },
  {
   "cell_type": "code",
   "execution_count": 16,
   "id": "d1ce6b5f",
   "metadata": {
    "execution": {
     "iopub.execute_input": "2023-04-10T10:26:28.651569Z",
     "iopub.status.busy": "2023-04-10T10:26:28.650960Z",
     "iopub.status.idle": "2023-04-10T10:26:28.657200Z",
     "shell.execute_reply": "2023-04-10T10:26:28.656133Z"
    },
    "papermill": {
     "duration": 0.036617,
     "end_time": "2023-04-10T10:26:28.659173",
     "exception": false,
     "start_time": "2023-04-10T10:26:28.622556",
     "status": "completed"
    },
    "tags": []
   },
   "outputs": [
    {
     "data": {
      "text/plain": [
       "5"
      ]
     },
     "execution_count": 16,
     "metadata": {},
     "output_type": "execute_result"
    }
   ],
   "source": [
    "s6.size"
   ]
  },
  {
   "cell_type": "code",
   "execution_count": 17,
   "id": "da7f40c5",
   "metadata": {
    "execution": {
     "iopub.execute_input": "2023-04-10T10:26:28.714517Z",
     "iopub.status.busy": "2023-04-10T10:26:28.713931Z",
     "iopub.status.idle": "2023-04-10T10:26:28.722977Z",
     "shell.execute_reply": "2023-04-10T10:26:28.721600Z"
    },
    "papermill": {
     "duration": 0.039216,
     "end_time": "2023-04-10T10:26:28.725124",
     "exception": false,
     "start_time": "2023-04-10T10:26:28.685908",
     "status": "completed"
    },
    "tags": []
   },
   "outputs": [
    {
     "data": {
      "text/plain": [
       "True"
      ]
     },
     "execution_count": 17,
     "metadata": {},
     "output_type": "execute_result"
    }
   ],
   "source": [
    "s6.is_unique"
   ]
  },
  {
   "cell_type": "code",
   "execution_count": 18,
   "id": "32940d18",
   "metadata": {
    "execution": {
     "iopub.execute_input": "2023-04-10T10:26:28.781245Z",
     "iopub.status.busy": "2023-04-10T10:26:28.780826Z",
     "iopub.status.idle": "2023-04-10T10:26:28.788457Z",
     "shell.execute_reply": "2023-04-10T10:26:28.787381Z"
    },
    "papermill": {
     "duration": 0.039368,
     "end_time": "2023-04-10T10:26:28.791210",
     "exception": false,
     "start_time": "2023-04-10T10:26:28.751842",
     "status": "completed"
    },
    "tags": []
   },
   "outputs": [
    {
     "data": {
      "text/plain": [
       "1"
      ]
     },
     "execution_count": 18,
     "metadata": {},
     "output_type": "execute_result"
    }
   ],
   "source": [
    "s6.ndim"
   ]
  },
  {
   "cell_type": "code",
   "execution_count": 19,
   "id": "7de449c4",
   "metadata": {
    "execution": {
     "iopub.execute_input": "2023-04-10T10:26:28.846855Z",
     "iopub.status.busy": "2023-04-10T10:26:28.846496Z",
     "iopub.status.idle": "2023-04-10T10:26:28.853114Z",
     "shell.execute_reply": "2023-04-10T10:26:28.852094Z"
    },
    "papermill": {
     "duration": 0.036268,
     "end_time": "2023-04-10T10:26:28.854968",
     "exception": false,
     "start_time": "2023-04-10T10:26:28.818700",
     "status": "completed"
    },
    "tags": []
   },
   "outputs": [
    {
     "data": {
      "text/plain": [
       "(5,)"
      ]
     },
     "execution_count": 19,
     "metadata": {},
     "output_type": "execute_result"
    }
   ],
   "source": [
    "s6.shape"
   ]
  },
  {
   "cell_type": "code",
   "execution_count": 20,
   "id": "4addee09",
   "metadata": {
    "execution": {
     "iopub.execute_input": "2023-04-10T10:26:28.911196Z",
     "iopub.status.busy": "2023-04-10T10:26:28.910831Z",
     "iopub.status.idle": "2023-04-10T10:26:28.916854Z",
     "shell.execute_reply": "2023-04-10T10:26:28.915869Z"
    },
    "papermill": {
     "duration": 0.036073,
     "end_time": "2023-04-10T10:26:28.918795",
     "exception": false,
     "start_time": "2023-04-10T10:26:28.882722",
     "status": "completed"
    },
    "tags": []
   },
   "outputs": [
    {
     "data": {
      "text/plain": [
       "'population'"
      ]
     },
     "execution_count": 20,
     "metadata": {},
     "output_type": "execute_result"
    }
   ],
   "source": [
    "s6.name"
   ]
  },
  {
   "cell_type": "markdown",
   "id": "390ceb77",
   "metadata": {
    "papermill": {
     "duration": 0.026444,
     "end_time": "2023-04-10T10:26:28.971856",
     "exception": false,
     "start_time": "2023-04-10T10:26:28.945412",
     "status": "completed"
    },
    "tags": []
   },
   "source": [
    "**methods**"
   ]
  },
  {
   "cell_type": "code",
   "execution_count": 21,
   "id": "6c180047",
   "metadata": {
    "execution": {
     "iopub.execute_input": "2023-04-10T10:26:29.026856Z",
     "iopub.status.busy": "2023-04-10T10:26:29.026479Z",
     "iopub.status.idle": "2023-04-10T10:26:29.037881Z",
     "shell.execute_reply": "2023-04-10T10:26:29.037171Z"
    },
    "papermill": {
     "duration": 0.041177,
     "end_time": "2023-04-10T10:26:29.039626",
     "exception": false,
     "start_time": "2023-04-10T10:26:28.998449",
     "status": "completed"
    },
    "tags": []
   },
   "outputs": [
    {
     "data": {
      "text/plain": [
       "0      22\n",
       "1      23\n",
       "2      21\n",
       "3      21\n",
       "4      21\n",
       "       ..\n",
       "651    36\n",
       "652    41\n",
       "653    31\n",
       "654    32\n",
       "655    31\n",
       "Name: popularity, Length: 656, dtype: int64"
      ]
     },
     "execution_count": 21,
     "metadata": {},
     "output_type": "execute_result"
    }
   ],
   "source": [
    "a=pd.read_csv('/kaggle/input/ed-sheeran-spotify-dataset/ed_sheeran_spotify.csv', usecols=['popularity'], squeeze=True)\n",
    "a"
   ]
  },
  {
   "cell_type": "code",
   "execution_count": 22,
   "id": "0d56d61b",
   "metadata": {
    "execution": {
     "iopub.execute_input": "2023-04-10T10:26:29.104088Z",
     "iopub.status.busy": "2023-04-10T10:26:29.103364Z",
     "iopub.status.idle": "2023-04-10T10:26:29.110503Z",
     "shell.execute_reply": "2023-04-10T10:26:29.109140Z"
    },
    "papermill": {
     "duration": 0.045507,
     "end_time": "2023-04-10T10:26:29.112620",
     "exception": false,
     "start_time": "2023-04-10T10:26:29.067113",
     "status": "completed"
    },
    "tags": []
   },
   "outputs": [
    {
     "data": {
      "text/plain": [
       "0"
      ]
     },
     "execution_count": 22,
     "metadata": {},
     "output_type": "execute_result"
    }
   ],
   "source": [
    "a.min()"
   ]
  },
  {
   "cell_type": "code",
   "execution_count": 23,
   "id": "cc3b37fb",
   "metadata": {
    "execution": {
     "iopub.execute_input": "2023-04-10T10:26:29.174950Z",
     "iopub.status.busy": "2023-04-10T10:26:29.174623Z",
     "iopub.status.idle": "2023-04-10T10:26:29.180528Z",
     "shell.execute_reply": "2023-04-10T10:26:29.179619Z"
    },
    "papermill": {
     "duration": 0.038484,
     "end_time": "2023-04-10T10:26:29.182590",
     "exception": false,
     "start_time": "2023-04-10T10:26:29.144106",
     "status": "completed"
    },
    "tags": []
   },
   "outputs": [
    {
     "data": {
      "text/plain": [
       "88"
      ]
     },
     "execution_count": 23,
     "metadata": {},
     "output_type": "execute_result"
    }
   ],
   "source": [
    "a.max()"
   ]
  },
  {
   "cell_type": "code",
   "execution_count": 24,
   "id": "6608af76",
   "metadata": {
    "execution": {
     "iopub.execute_input": "2023-04-10T10:26:29.239685Z",
     "iopub.status.busy": "2023-04-10T10:26:29.239050Z",
     "iopub.status.idle": "2023-04-10T10:26:29.245043Z",
     "shell.execute_reply": "2023-04-10T10:26:29.244152Z"
    },
    "papermill": {
     "duration": 0.03664,
     "end_time": "2023-04-10T10:26:29.246845",
     "exception": false,
     "start_time": "2023-04-10T10:26:29.210205",
     "status": "completed"
    },
    "tags": []
   },
   "outputs": [
    {
     "data": {
      "text/plain": [
       "405"
      ]
     },
     "execution_count": 24,
     "metadata": {},
     "output_type": "execute_result"
    }
   ],
   "source": [
    "a.idxmax() # it returns the index of maximum no holds"
   ]
  },
  {
   "cell_type": "code",
   "execution_count": 25,
   "id": "36091f3b",
   "metadata": {
    "execution": {
     "iopub.execute_input": "2023-04-10T10:26:29.303562Z",
     "iopub.status.busy": "2023-04-10T10:26:29.303191Z",
     "iopub.status.idle": "2023-04-10T10:26:29.310502Z",
     "shell.execute_reply": "2023-04-10T10:26:29.309408Z"
    },
    "papermill": {
     "duration": 0.03825,
     "end_time": "2023-04-10T10:26:29.312542",
     "exception": false,
     "start_time": "2023-04-10T10:26:29.274292",
     "status": "completed"
    },
    "tags": []
   },
   "outputs": [
    {
     "data": {
      "text/plain": [
       "432"
      ]
     },
     "execution_count": 25,
     "metadata": {},
     "output_type": "execute_result"
    }
   ],
   "source": [
    "a.idxmin()"
   ]
  },
  {
   "cell_type": "code",
   "execution_count": 26,
   "id": "f68e2527",
   "metadata": {
    "execution": {
     "iopub.execute_input": "2023-04-10T10:26:29.369297Z",
     "iopub.status.busy": "2023-04-10T10:26:29.368910Z",
     "iopub.status.idle": "2023-04-10T10:26:29.373528Z",
     "shell.execute_reply": "2023-04-10T10:26:29.372598Z"
    },
    "papermill": {
     "duration": 0.035332,
     "end_time": "2023-04-10T10:26:29.375446",
     "exception": false,
     "start_time": "2023-04-10T10:26:29.340114",
     "status": "completed"
    },
    "tags": []
   },
   "outputs": [],
   "source": [
    "b=pd.Series([-1,34,5,6,2])"
   ]
  },
  {
   "cell_type": "code",
   "execution_count": 27,
   "id": "9523d2d4",
   "metadata": {
    "execution": {
     "iopub.execute_input": "2023-04-10T10:26:29.433865Z",
     "iopub.status.busy": "2023-04-10T10:26:29.433492Z",
     "iopub.status.idle": "2023-04-10T10:26:29.439546Z",
     "shell.execute_reply": "2023-04-10T10:26:29.438659Z"
    },
    "papermill": {
     "duration": 0.037787,
     "end_time": "2023-04-10T10:26:29.441466",
     "exception": false,
     "start_time": "2023-04-10T10:26:29.403679",
     "status": "completed"
    },
    "tags": []
   },
   "outputs": [
    {
     "data": {
      "text/plain": [
       "46"
      ]
     },
     "execution_count": 27,
     "metadata": {},
     "output_type": "execute_result"
    }
   ],
   "source": [
    "b.sum()"
   ]
  },
  {
   "cell_type": "code",
   "execution_count": 28,
   "id": "47c7dea3",
   "metadata": {
    "execution": {
     "iopub.execute_input": "2023-04-10T10:26:29.499760Z",
     "iopub.status.busy": "2023-04-10T10:26:29.499355Z",
     "iopub.status.idle": "2023-04-10T10:26:29.506224Z",
     "shell.execute_reply": "2023-04-10T10:26:29.505351Z"
    },
    "papermill": {
     "duration": 0.038731,
     "end_time": "2023-04-10T10:26:29.508210",
     "exception": false,
     "start_time": "2023-04-10T10:26:29.469479",
     "status": "completed"
    },
    "tags": []
   },
   "outputs": [
    {
     "data": {
      "text/plain": [
       "0     1\n",
       "1    34\n",
       "2     5\n",
       "3     6\n",
       "4     2\n",
       "dtype: int64"
      ]
     },
     "execution_count": 28,
     "metadata": {},
     "output_type": "execute_result"
    }
   ],
   "source": [
    "b.abs()"
   ]
  },
  {
   "cell_type": "code",
   "execution_count": 29,
   "id": "4b1e6628",
   "metadata": {
    "execution": {
     "iopub.execute_input": "2023-04-10T10:26:29.564731Z",
     "iopub.status.busy": "2023-04-10T10:26:29.564358Z",
     "iopub.status.idle": "2023-04-10T10:26:29.571354Z",
     "shell.execute_reply": "2023-04-10T10:26:29.569985Z"
    },
    "papermill": {
     "duration": 0.037645,
     "end_time": "2023-04-10T10:26:29.573296",
     "exception": false,
     "start_time": "2023-04-10T10:26:29.535651",
     "status": "completed"
    },
    "tags": []
   },
   "outputs": [
    {
     "data": {
      "text/plain": [
       "-2040"
      ]
     },
     "execution_count": 29,
     "metadata": {},
     "output_type": "execute_result"
    }
   ],
   "source": [
    "b.prod()"
   ]
  },
  {
   "cell_type": "code",
   "execution_count": 30,
   "id": "8ee90277",
   "metadata": {
    "execution": {
     "iopub.execute_input": "2023-04-10T10:26:29.629930Z",
     "iopub.status.busy": "2023-04-10T10:26:29.629571Z",
     "iopub.status.idle": "2023-04-10T10:26:29.636404Z",
     "shell.execute_reply": "2023-04-10T10:26:29.635349Z"
    },
    "papermill": {
     "duration": 0.038112,
     "end_time": "2023-04-10T10:26:29.638964",
     "exception": false,
     "start_time": "2023-04-10T10:26:29.600852",
     "status": "completed"
    },
    "tags": []
   },
   "outputs": [
    {
     "data": {
      "text/plain": [
       "31.785060975609756"
      ]
     },
     "execution_count": 30,
     "metadata": {},
     "output_type": "execute_result"
    }
   ],
   "source": [
    "b.mean()\n",
    "a.mean()"
   ]
  },
  {
   "cell_type": "code",
   "execution_count": 31,
   "id": "853984fb",
   "metadata": {
    "execution": {
     "iopub.execute_input": "2023-04-10T10:26:29.699106Z",
     "iopub.status.busy": "2023-04-10T10:26:29.698736Z",
     "iopub.status.idle": "2023-04-10T10:26:29.704883Z",
     "shell.execute_reply": "2023-04-10T10:26:29.703542Z"
    },
    "papermill": {
     "duration": 0.038837,
     "end_time": "2023-04-10T10:26:29.707515",
     "exception": false,
     "start_time": "2023-04-10T10:26:29.668678",
     "status": "completed"
    },
    "tags": []
   },
   "outputs": [
    {
     "data": {
      "text/plain": [
       "656"
      ]
     },
     "execution_count": 31,
     "metadata": {},
     "output_type": "execute_result"
    }
   ],
   "source": [
    "len(a)"
   ]
  },
  {
   "cell_type": "code",
   "execution_count": 32,
   "id": "318d42b3",
   "metadata": {
    "execution": {
     "iopub.execute_input": "2023-04-10T10:26:29.767921Z",
     "iopub.status.busy": "2023-04-10T10:26:29.767541Z",
     "iopub.status.idle": "2023-04-10T10:26:29.775325Z",
     "shell.execute_reply": "2023-04-10T10:26:29.774272Z"
    },
    "papermill": {
     "duration": 0.041521,
     "end_time": "2023-04-10T10:26:29.778258",
     "exception": false,
     "start_time": "2023-04-10T10:26:29.736737",
     "status": "completed"
    },
    "tags": []
   },
   "outputs": [
    {
     "data": {
      "text/plain": [
       "0    22\n",
       "1    23\n",
       "2    21\n",
       "3    21\n",
       "4    21\n",
       "Name: popularity, dtype: int64"
      ]
     },
     "execution_count": 32,
     "metadata": {},
     "output_type": "execute_result"
    }
   ],
   "source": [
    "a.head()  #by deafault it gives top5 records."
   ]
  },
  {
   "cell_type": "code",
   "execution_count": 33,
   "id": "1d03275d",
   "metadata": {
    "execution": {
     "iopub.execute_input": "2023-04-10T10:26:29.838355Z",
     "iopub.status.busy": "2023-04-10T10:26:29.837963Z",
     "iopub.status.idle": "2023-04-10T10:26:29.843975Z",
     "shell.execute_reply": "2023-04-10T10:26:29.843377Z"
    },
    "papermill": {
     "duration": 0.038157,
     "end_time": "2023-04-10T10:26:29.845762",
     "exception": false,
     "start_time": "2023-04-10T10:26:29.807605",
     "status": "completed"
    },
    "tags": []
   },
   "outputs": [
    {
     "data": {
      "text/plain": [
       "0    22\n",
       "1    23\n",
       "2    21\n",
       "3    21\n",
       "4    21\n",
       "5    20\n",
       "6    19\n",
       "7    19\n",
       "Name: popularity, dtype: int64"
      ]
     },
     "execution_count": 33,
     "metadata": {},
     "output_type": "execute_result"
    }
   ],
   "source": [
    "a.head(8)"
   ]
  },
  {
   "cell_type": "code",
   "execution_count": 34,
   "id": "ffbd01b3",
   "metadata": {
    "execution": {
     "iopub.execute_input": "2023-04-10T10:26:29.903863Z",
     "iopub.status.busy": "2023-04-10T10:26:29.903528Z",
     "iopub.status.idle": "2023-04-10T10:26:29.909936Z",
     "shell.execute_reply": "2023-04-10T10:26:29.908842Z"
    },
    "papermill": {
     "duration": 0.038741,
     "end_time": "2023-04-10T10:26:29.912614",
     "exception": false,
     "start_time": "2023-04-10T10:26:29.873873",
     "status": "completed"
    },
    "tags": []
   },
   "outputs": [
    {
     "data": {
      "text/plain": [
       "651    36\n",
       "652    41\n",
       "653    31\n",
       "654    32\n",
       "655    31\n",
       "Name: popularity, dtype: int64"
      ]
     },
     "execution_count": 34,
     "metadata": {},
     "output_type": "execute_result"
    }
   ],
   "source": [
    "a.tail() #by default it gives the last 5 records"
   ]
  },
  {
   "cell_type": "code",
   "execution_count": 35,
   "id": "ce5b53ba",
   "metadata": {
    "collapsed": true,
    "execution": {
     "iopub.execute_input": "2023-04-10T10:26:29.973875Z",
     "iopub.status.busy": "2023-04-10T10:26:29.972768Z",
     "iopub.status.idle": "2023-04-10T10:26:29.988368Z",
     "shell.execute_reply": "2023-04-10T10:26:29.987408Z"
    },
    "jupyter": {
     "outputs_hidden": true
    },
    "papermill": {
     "duration": 0.048301,
     "end_time": "2023-04-10T10:26:29.990179",
     "exception": false,
     "start_time": "2023-04-10T10:26:29.941878",
     "status": "completed"
    },
    "tags": []
   },
   "outputs": [
    {
     "data": {
      "text/plain": [
       "[0,\n",
       " 0,\n",
       " 0,\n",
       " 0,\n",
       " 0,\n",
       " 1,\n",
       " 1,\n",
       " 1,\n",
       " 2,\n",
       " 2,\n",
       " 2,\n",
       " 2,\n",
       " 3,\n",
       " 3,\n",
       " 3,\n",
       " 3,\n",
       " 3,\n",
       " 3,\n",
       " 4,\n",
       " 4,\n",
       " 4,\n",
       " 4,\n",
       " 4,\n",
       " 4,\n",
       " 4,\n",
       " 4,\n",
       " 4,\n",
       " 5,\n",
       " 5,\n",
       " 5,\n",
       " 6,\n",
       " 6,\n",
       " 6,\n",
       " 6,\n",
       " 6,\n",
       " 6,\n",
       " 7,\n",
       " 7,\n",
       " 7,\n",
       " 7,\n",
       " 7,\n",
       " 7,\n",
       " 7,\n",
       " 8,\n",
       " 8,\n",
       " 8,\n",
       " 8,\n",
       " 8,\n",
       " 8,\n",
       " 8,\n",
       " 8,\n",
       " 9,\n",
       " 9,\n",
       " 9,\n",
       " 9,\n",
       " 9,\n",
       " 10,\n",
       " 10,\n",
       " 10,\n",
       " 10,\n",
       " 10,\n",
       " 10,\n",
       " 10,\n",
       " 10,\n",
       " 11,\n",
       " 11,\n",
       " 11,\n",
       " 11,\n",
       " 11,\n",
       " 12,\n",
       " 12,\n",
       " 12,\n",
       " 12,\n",
       " 12,\n",
       " 12,\n",
       " 12,\n",
       " 12,\n",
       " 12,\n",
       " 12,\n",
       " 12,\n",
       " 13,\n",
       " 13,\n",
       " 13,\n",
       " 13,\n",
       " 13,\n",
       " 13,\n",
       " 13,\n",
       " 13,\n",
       " 13,\n",
       " 14,\n",
       " 14,\n",
       " 14,\n",
       " 14,\n",
       " 14,\n",
       " 14,\n",
       " 14,\n",
       " 14,\n",
       " 14,\n",
       " 14,\n",
       " 15,\n",
       " 15,\n",
       " 15,\n",
       " 15,\n",
       " 15,\n",
       " 15,\n",
       " 15,\n",
       " 16,\n",
       " 16,\n",
       " 16,\n",
       " 16,\n",
       " 16,\n",
       " 16,\n",
       " 16,\n",
       " 16,\n",
       " 16,\n",
       " 16,\n",
       " 16,\n",
       " 17,\n",
       " 17,\n",
       " 17,\n",
       " 17,\n",
       " 17,\n",
       " 17,\n",
       " 17,\n",
       " 17,\n",
       " 17,\n",
       " 17,\n",
       " 17,\n",
       " 17,\n",
       " 17,\n",
       " 17,\n",
       " 17,\n",
       " 17,\n",
       " 17,\n",
       " 17,\n",
       " 17,\n",
       " 17,\n",
       " 17,\n",
       " 17,\n",
       " 17,\n",
       " 17,\n",
       " 18,\n",
       " 18,\n",
       " 18,\n",
       " 18,\n",
       " 18,\n",
       " 18,\n",
       " 18,\n",
       " 18,\n",
       " 18,\n",
       " 18,\n",
       " 18,\n",
       " 19,\n",
       " 19,\n",
       " 19,\n",
       " 19,\n",
       " 19,\n",
       " 19,\n",
       " 19,\n",
       " 19,\n",
       " 19,\n",
       " 19,\n",
       " 19,\n",
       " 19,\n",
       " 19,\n",
       " 19,\n",
       " 19,\n",
       " 19,\n",
       " 19,\n",
       " 19,\n",
       " 19,\n",
       " 19,\n",
       " 19,\n",
       " 20,\n",
       " 20,\n",
       " 20,\n",
       " 20,\n",
       " 20,\n",
       " 20,\n",
       " 20,\n",
       " 20,\n",
       " 20,\n",
       " 20,\n",
       " 20,\n",
       " 20,\n",
       " 20,\n",
       " 21,\n",
       " 21,\n",
       " 21,\n",
       " 21,\n",
       " 21,\n",
       " 21,\n",
       " 21,\n",
       " 21,\n",
       " 21,\n",
       " 21,\n",
       " 21,\n",
       " 21,\n",
       " 21,\n",
       " 21,\n",
       " 21,\n",
       " 21,\n",
       " 21,\n",
       " 21,\n",
       " 22,\n",
       " 22,\n",
       " 22,\n",
       " 22,\n",
       " 22,\n",
       " 22,\n",
       " 22,\n",
       " 22,\n",
       " 22,\n",
       " 22,\n",
       " 22,\n",
       " 22,\n",
       " 22,\n",
       " 22,\n",
       " 22,\n",
       " 22,\n",
       " 22,\n",
       " 23,\n",
       " 23,\n",
       " 23,\n",
       " 23,\n",
       " 23,\n",
       " 23,\n",
       " 23,\n",
       " 23,\n",
       " 23,\n",
       " 23,\n",
       " 23,\n",
       " 24,\n",
       " 24,\n",
       " 24,\n",
       " 24,\n",
       " 24,\n",
       " 24,\n",
       " 24,\n",
       " 24,\n",
       " 24,\n",
       " 24,\n",
       " 24,\n",
       " 24,\n",
       " 24,\n",
       " 25,\n",
       " 25,\n",
       " 25,\n",
       " 25,\n",
       " 25,\n",
       " 25,\n",
       " 25,\n",
       " 25,\n",
       " 25,\n",
       " 25,\n",
       " 25,\n",
       " 25,\n",
       " 25,\n",
       " 26,\n",
       " 26,\n",
       " 26,\n",
       " 26,\n",
       " 26,\n",
       " 26,\n",
       " 26,\n",
       " 26,\n",
       " 26,\n",
       " 26,\n",
       " 26,\n",
       " 26,\n",
       " 26,\n",
       " 26,\n",
       " 26,\n",
       " 27,\n",
       " 27,\n",
       " 27,\n",
       " 27,\n",
       " 27,\n",
       " 27,\n",
       " 27,\n",
       " 27,\n",
       " 27,\n",
       " 27,\n",
       " 28,\n",
       " 28,\n",
       " 28,\n",
       " 28,\n",
       " 28,\n",
       " 28,\n",
       " 28,\n",
       " 28,\n",
       " 28,\n",
       " 28,\n",
       " 28,\n",
       " 28,\n",
       " 28,\n",
       " 28,\n",
       " 28,\n",
       " 28,\n",
       " 29,\n",
       " 29,\n",
       " 29,\n",
       " 29,\n",
       " 29,\n",
       " 29,\n",
       " 29,\n",
       " 29,\n",
       " 29,\n",
       " 29,\n",
       " 29,\n",
       " 29,\n",
       " 29,\n",
       " 30,\n",
       " 30,\n",
       " 30,\n",
       " 30,\n",
       " 30,\n",
       " 30,\n",
       " 30,\n",
       " 30,\n",
       " 30,\n",
       " 30,\n",
       " 30,\n",
       " 30,\n",
       " 30,\n",
       " 30,\n",
       " 30,\n",
       " 30,\n",
       " 30,\n",
       " 30,\n",
       " 30,\n",
       " 30,\n",
       " 30,\n",
       " 30,\n",
       " 30,\n",
       " 30,\n",
       " 30,\n",
       " 30,\n",
       " 30,\n",
       " 31,\n",
       " 31,\n",
       " 31,\n",
       " 31,\n",
       " 31,\n",
       " 31,\n",
       " 31,\n",
       " 31,\n",
       " 31,\n",
       " 31,\n",
       " 31,\n",
       " 31,\n",
       " 31,\n",
       " 31,\n",
       " 31,\n",
       " 31,\n",
       " 31,\n",
       " 31,\n",
       " 32,\n",
       " 32,\n",
       " 32,\n",
       " 32,\n",
       " 32,\n",
       " 32,\n",
       " 32,\n",
       " 32,\n",
       " 32,\n",
       " 32,\n",
       " 32,\n",
       " 32,\n",
       " 32,\n",
       " 32,\n",
       " 32,\n",
       " 32,\n",
       " 32,\n",
       " 32,\n",
       " 33,\n",
       " 33,\n",
       " 33,\n",
       " 33,\n",
       " 33,\n",
       " 33,\n",
       " 33,\n",
       " 33,\n",
       " 33,\n",
       " 33,\n",
       " 33,\n",
       " 33,\n",
       " 33,\n",
       " 33,\n",
       " 33,\n",
       " 33,\n",
       " 33,\n",
       " 33,\n",
       " 33,\n",
       " 34,\n",
       " 34,\n",
       " 34,\n",
       " 34,\n",
       " 34,\n",
       " 34,\n",
       " 34,\n",
       " 34,\n",
       " 34,\n",
       " 35,\n",
       " 35,\n",
       " 35,\n",
       " 35,\n",
       " 35,\n",
       " 35,\n",
       " 35,\n",
       " 35,\n",
       " 35,\n",
       " 35,\n",
       " 35,\n",
       " 35,\n",
       " 35,\n",
       " 36,\n",
       " 36,\n",
       " 36,\n",
       " 36,\n",
       " 36,\n",
       " 36,\n",
       " 36,\n",
       " 36,\n",
       " 36,\n",
       " 36,\n",
       " 36,\n",
       " 36,\n",
       " 36,\n",
       " 36,\n",
       " 36,\n",
       " 36,\n",
       " 36,\n",
       " 36,\n",
       " 36,\n",
       " 36,\n",
       " 37,\n",
       " 37,\n",
       " 37,\n",
       " 37,\n",
       " 37,\n",
       " 37,\n",
       " 37,\n",
       " 37,\n",
       " 37,\n",
       " 37,\n",
       " 37,\n",
       " 38,\n",
       " 38,\n",
       " 38,\n",
       " 38,\n",
       " 38,\n",
       " 38,\n",
       " 38,\n",
       " 38,\n",
       " 38,\n",
       " 39,\n",
       " 39,\n",
       " 39,\n",
       " 39,\n",
       " 39,\n",
       " 39,\n",
       " 39,\n",
       " 39,\n",
       " 39,\n",
       " 39,\n",
       " 39,\n",
       " 39,\n",
       " 39,\n",
       " 39,\n",
       " 39,\n",
       " 39,\n",
       " 39,\n",
       " 40,\n",
       " 40,\n",
       " 40,\n",
       " 40,\n",
       " 40,\n",
       " 40,\n",
       " 40,\n",
       " 40,\n",
       " 40,\n",
       " 40,\n",
       " 40,\n",
       " 40,\n",
       " 41,\n",
       " 41,\n",
       " 41,\n",
       " 41,\n",
       " 41,\n",
       " 41,\n",
       " 41,\n",
       " 41,\n",
       " 41,\n",
       " 41,\n",
       " 41,\n",
       " 41,\n",
       " 41,\n",
       " 42,\n",
       " 42,\n",
       " 42,\n",
       " 42,\n",
       " 42,\n",
       " 42,\n",
       " 42,\n",
       " 42,\n",
       " 42,\n",
       " 43,\n",
       " 43,\n",
       " 43,\n",
       " 43,\n",
       " 43,\n",
       " 43,\n",
       " 43,\n",
       " 43,\n",
       " 43,\n",
       " 44,\n",
       " 44,\n",
       " 44,\n",
       " 44,\n",
       " 45,\n",
       " 45,\n",
       " 45,\n",
       " 45,\n",
       " 45,\n",
       " 45,\n",
       " 45,\n",
       " 45,\n",
       " 46,\n",
       " 46,\n",
       " 46,\n",
       " 46,\n",
       " 46,\n",
       " 46,\n",
       " 46,\n",
       " 46,\n",
       " 46,\n",
       " 46,\n",
       " 46,\n",
       " 46,\n",
       " 47,\n",
       " 47,\n",
       " 47,\n",
       " 47,\n",
       " 47,\n",
       " 48,\n",
       " 48,\n",
       " 48,\n",
       " 48,\n",
       " 48,\n",
       " 48,\n",
       " 49,\n",
       " 49,\n",
       " 49,\n",
       " 49,\n",
       " 49,\n",
       " 50,\n",
       " 50,\n",
       " 51,\n",
       " 51,\n",
       " 51,\n",
       " 51,\n",
       " 51,\n",
       " 51,\n",
       " 51,\n",
       " 52,\n",
       " 52,\n",
       " 52,\n",
       " 52,\n",
       " 53,\n",
       " 53,\n",
       " 53,\n",
       " 53,\n",
       " 53,\n",
       " 53,\n",
       " 54,\n",
       " 54,\n",
       " 54,\n",
       " 54,\n",
       " 54,\n",
       " 54,\n",
       " 54,\n",
       " 54,\n",
       " 54,\n",
       " 55,\n",
       " 56,\n",
       " 56,\n",
       " 56,\n",
       " 57,\n",
       " 57,\n",
       " 57,\n",
       " 57,\n",
       " 57,\n",
       " 58,\n",
       " 58,\n",
       " 58,\n",
       " 59,\n",
       " 59,\n",
       " 60,\n",
       " 60,\n",
       " 61,\n",
       " 62,\n",
       " 62,\n",
       " 62,\n",
       " 62,\n",
       " 63,\n",
       " 63,\n",
       " 63,\n",
       " 63,\n",
       " 63,\n",
       " 63,\n",
       " 64,\n",
       " 64,\n",
       " 64,\n",
       " 64,\n",
       " 64,\n",
       " 64,\n",
       " 65,\n",
       " 65,\n",
       " 65,\n",
       " 65,\n",
       " 65,\n",
       " 65,\n",
       " 65,\n",
       " 65,\n",
       " 65,\n",
       " 66,\n",
       " 66,\n",
       " 66,\n",
       " 66,\n",
       " 68,\n",
       " 68,\n",
       " 68,\n",
       " 69,\n",
       " 70,\n",
       " 70,\n",
       " 71,\n",
       " 72,\n",
       " 73,\n",
       " 73,\n",
       " 73,\n",
       " 74,\n",
       " 74,\n",
       " 74,\n",
       " 75,\n",
       " 75,\n",
       " 75,\n",
       " 79,\n",
       " 79,\n",
       " 79,\n",
       " 83,\n",
       " 85,\n",
       " 86,\n",
       " 86,\n",
       " 86,\n",
       " 88]"
      ]
     },
     "execution_count": 35,
     "metadata": {},
     "output_type": "execute_result"
    }
   ],
   "source": [
    "sorted(a)"
   ]
  },
  {
   "cell_type": "code",
   "execution_count": 36,
   "id": "1fa9226d",
   "metadata": {
    "collapsed": true,
    "execution": {
     "iopub.execute_input": "2023-04-10T10:26:30.050410Z",
     "iopub.status.busy": "2023-04-10T10:26:30.050021Z",
     "iopub.status.idle": "2023-04-10T10:26:30.064360Z",
     "shell.execute_reply": "2023-04-10T10:26:30.063220Z"
    },
    "jupyter": {
     "outputs_hidden": true
    },
    "papermill": {
     "duration": 0.04744,
     "end_time": "2023-04-10T10:26:30.066945",
     "exception": false,
     "start_time": "2023-04-10T10:26:30.019505",
     "status": "completed"
    },
    "tags": []
   },
   "outputs": [
    {
     "data": {
      "text/plain": [
       "[88,\n",
       " 86,\n",
       " 86,\n",
       " 86,\n",
       " 85,\n",
       " 83,\n",
       " 79,\n",
       " 79,\n",
       " 79,\n",
       " 75,\n",
       " 75,\n",
       " 75,\n",
       " 74,\n",
       " 74,\n",
       " 74,\n",
       " 73,\n",
       " 73,\n",
       " 73,\n",
       " 72,\n",
       " 71,\n",
       " 70,\n",
       " 70,\n",
       " 69,\n",
       " 68,\n",
       " 68,\n",
       " 68,\n",
       " 66,\n",
       " 66,\n",
       " 66,\n",
       " 66,\n",
       " 65,\n",
       " 65,\n",
       " 65,\n",
       " 65,\n",
       " 65,\n",
       " 65,\n",
       " 65,\n",
       " 65,\n",
       " 65,\n",
       " 64,\n",
       " 64,\n",
       " 64,\n",
       " 64,\n",
       " 64,\n",
       " 64,\n",
       " 63,\n",
       " 63,\n",
       " 63,\n",
       " 63,\n",
       " 63,\n",
       " 63,\n",
       " 62,\n",
       " 62,\n",
       " 62,\n",
       " 62,\n",
       " 61,\n",
       " 60,\n",
       " 60,\n",
       " 59,\n",
       " 59,\n",
       " 58,\n",
       " 58,\n",
       " 58,\n",
       " 57,\n",
       " 57,\n",
       " 57,\n",
       " 57,\n",
       " 57,\n",
       " 56,\n",
       " 56,\n",
       " 56,\n",
       " 55,\n",
       " 54,\n",
       " 54,\n",
       " 54,\n",
       " 54,\n",
       " 54,\n",
       " 54,\n",
       " 54,\n",
       " 54,\n",
       " 54,\n",
       " 53,\n",
       " 53,\n",
       " 53,\n",
       " 53,\n",
       " 53,\n",
       " 53,\n",
       " 52,\n",
       " 52,\n",
       " 52,\n",
       " 52,\n",
       " 51,\n",
       " 51,\n",
       " 51,\n",
       " 51,\n",
       " 51,\n",
       " 51,\n",
       " 51,\n",
       " 50,\n",
       " 50,\n",
       " 49,\n",
       " 49,\n",
       " 49,\n",
       " 49,\n",
       " 49,\n",
       " 48,\n",
       " 48,\n",
       " 48,\n",
       " 48,\n",
       " 48,\n",
       " 48,\n",
       " 47,\n",
       " 47,\n",
       " 47,\n",
       " 47,\n",
       " 47,\n",
       " 46,\n",
       " 46,\n",
       " 46,\n",
       " 46,\n",
       " 46,\n",
       " 46,\n",
       " 46,\n",
       " 46,\n",
       " 46,\n",
       " 46,\n",
       " 46,\n",
       " 46,\n",
       " 45,\n",
       " 45,\n",
       " 45,\n",
       " 45,\n",
       " 45,\n",
       " 45,\n",
       " 45,\n",
       " 45,\n",
       " 44,\n",
       " 44,\n",
       " 44,\n",
       " 44,\n",
       " 43,\n",
       " 43,\n",
       " 43,\n",
       " 43,\n",
       " 43,\n",
       " 43,\n",
       " 43,\n",
       " 43,\n",
       " 43,\n",
       " 42,\n",
       " 42,\n",
       " 42,\n",
       " 42,\n",
       " 42,\n",
       " 42,\n",
       " 42,\n",
       " 42,\n",
       " 42,\n",
       " 41,\n",
       " 41,\n",
       " 41,\n",
       " 41,\n",
       " 41,\n",
       " 41,\n",
       " 41,\n",
       " 41,\n",
       " 41,\n",
       " 41,\n",
       " 41,\n",
       " 41,\n",
       " 41,\n",
       " 40,\n",
       " 40,\n",
       " 40,\n",
       " 40,\n",
       " 40,\n",
       " 40,\n",
       " 40,\n",
       " 40,\n",
       " 40,\n",
       " 40,\n",
       " 40,\n",
       " 40,\n",
       " 39,\n",
       " 39,\n",
       " 39,\n",
       " 39,\n",
       " 39,\n",
       " 39,\n",
       " 39,\n",
       " 39,\n",
       " 39,\n",
       " 39,\n",
       " 39,\n",
       " 39,\n",
       " 39,\n",
       " 39,\n",
       " 39,\n",
       " 39,\n",
       " 39,\n",
       " 38,\n",
       " 38,\n",
       " 38,\n",
       " 38,\n",
       " 38,\n",
       " 38,\n",
       " 38,\n",
       " 38,\n",
       " 38,\n",
       " 37,\n",
       " 37,\n",
       " 37,\n",
       " 37,\n",
       " 37,\n",
       " 37,\n",
       " 37,\n",
       " 37,\n",
       " 37,\n",
       " 37,\n",
       " 37,\n",
       " 36,\n",
       " 36,\n",
       " 36,\n",
       " 36,\n",
       " 36,\n",
       " 36,\n",
       " 36,\n",
       " 36,\n",
       " 36,\n",
       " 36,\n",
       " 36,\n",
       " 36,\n",
       " 36,\n",
       " 36,\n",
       " 36,\n",
       " 36,\n",
       " 36,\n",
       " 36,\n",
       " 36,\n",
       " 36,\n",
       " 35,\n",
       " 35,\n",
       " 35,\n",
       " 35,\n",
       " 35,\n",
       " 35,\n",
       " 35,\n",
       " 35,\n",
       " 35,\n",
       " 35,\n",
       " 35,\n",
       " 35,\n",
       " 35,\n",
       " 34,\n",
       " 34,\n",
       " 34,\n",
       " 34,\n",
       " 34,\n",
       " 34,\n",
       " 34,\n",
       " 34,\n",
       " 34,\n",
       " 33,\n",
       " 33,\n",
       " 33,\n",
       " 33,\n",
       " 33,\n",
       " 33,\n",
       " 33,\n",
       " 33,\n",
       " 33,\n",
       " 33,\n",
       " 33,\n",
       " 33,\n",
       " 33,\n",
       " 33,\n",
       " 33,\n",
       " 33,\n",
       " 33,\n",
       " 33,\n",
       " 33,\n",
       " 32,\n",
       " 32,\n",
       " 32,\n",
       " 32,\n",
       " 32,\n",
       " 32,\n",
       " 32,\n",
       " 32,\n",
       " 32,\n",
       " 32,\n",
       " 32,\n",
       " 32,\n",
       " 32,\n",
       " 32,\n",
       " 32,\n",
       " 32,\n",
       " 32,\n",
       " 32,\n",
       " 31,\n",
       " 31,\n",
       " 31,\n",
       " 31,\n",
       " 31,\n",
       " 31,\n",
       " 31,\n",
       " 31,\n",
       " 31,\n",
       " 31,\n",
       " 31,\n",
       " 31,\n",
       " 31,\n",
       " 31,\n",
       " 31,\n",
       " 31,\n",
       " 31,\n",
       " 31,\n",
       " 30,\n",
       " 30,\n",
       " 30,\n",
       " 30,\n",
       " 30,\n",
       " 30,\n",
       " 30,\n",
       " 30,\n",
       " 30,\n",
       " 30,\n",
       " 30,\n",
       " 30,\n",
       " 30,\n",
       " 30,\n",
       " 30,\n",
       " 30,\n",
       " 30,\n",
       " 30,\n",
       " 30,\n",
       " 30,\n",
       " 30,\n",
       " 30,\n",
       " 30,\n",
       " 30,\n",
       " 30,\n",
       " 30,\n",
       " 30,\n",
       " 29,\n",
       " 29,\n",
       " 29,\n",
       " 29,\n",
       " 29,\n",
       " 29,\n",
       " 29,\n",
       " 29,\n",
       " 29,\n",
       " 29,\n",
       " 29,\n",
       " 29,\n",
       " 29,\n",
       " 28,\n",
       " 28,\n",
       " 28,\n",
       " 28,\n",
       " 28,\n",
       " 28,\n",
       " 28,\n",
       " 28,\n",
       " 28,\n",
       " 28,\n",
       " 28,\n",
       " 28,\n",
       " 28,\n",
       " 28,\n",
       " 28,\n",
       " 28,\n",
       " 27,\n",
       " 27,\n",
       " 27,\n",
       " 27,\n",
       " 27,\n",
       " 27,\n",
       " 27,\n",
       " 27,\n",
       " 27,\n",
       " 27,\n",
       " 26,\n",
       " 26,\n",
       " 26,\n",
       " 26,\n",
       " 26,\n",
       " 26,\n",
       " 26,\n",
       " 26,\n",
       " 26,\n",
       " 26,\n",
       " 26,\n",
       " 26,\n",
       " 26,\n",
       " 26,\n",
       " 26,\n",
       " 25,\n",
       " 25,\n",
       " 25,\n",
       " 25,\n",
       " 25,\n",
       " 25,\n",
       " 25,\n",
       " 25,\n",
       " 25,\n",
       " 25,\n",
       " 25,\n",
       " 25,\n",
       " 25,\n",
       " 24,\n",
       " 24,\n",
       " 24,\n",
       " 24,\n",
       " 24,\n",
       " 24,\n",
       " 24,\n",
       " 24,\n",
       " 24,\n",
       " 24,\n",
       " 24,\n",
       " 24,\n",
       " 24,\n",
       " 23,\n",
       " 23,\n",
       " 23,\n",
       " 23,\n",
       " 23,\n",
       " 23,\n",
       " 23,\n",
       " 23,\n",
       " 23,\n",
       " 23,\n",
       " 23,\n",
       " 22,\n",
       " 22,\n",
       " 22,\n",
       " 22,\n",
       " 22,\n",
       " 22,\n",
       " 22,\n",
       " 22,\n",
       " 22,\n",
       " 22,\n",
       " 22,\n",
       " 22,\n",
       " 22,\n",
       " 22,\n",
       " 22,\n",
       " 22,\n",
       " 22,\n",
       " 21,\n",
       " 21,\n",
       " 21,\n",
       " 21,\n",
       " 21,\n",
       " 21,\n",
       " 21,\n",
       " 21,\n",
       " 21,\n",
       " 21,\n",
       " 21,\n",
       " 21,\n",
       " 21,\n",
       " 21,\n",
       " 21,\n",
       " 21,\n",
       " 21,\n",
       " 21,\n",
       " 20,\n",
       " 20,\n",
       " 20,\n",
       " 20,\n",
       " 20,\n",
       " 20,\n",
       " 20,\n",
       " 20,\n",
       " 20,\n",
       " 20,\n",
       " 20,\n",
       " 20,\n",
       " 20,\n",
       " 19,\n",
       " 19,\n",
       " 19,\n",
       " 19,\n",
       " 19,\n",
       " 19,\n",
       " 19,\n",
       " 19,\n",
       " 19,\n",
       " 19,\n",
       " 19,\n",
       " 19,\n",
       " 19,\n",
       " 19,\n",
       " 19,\n",
       " 19,\n",
       " 19,\n",
       " 19,\n",
       " 19,\n",
       " 19,\n",
       " 19,\n",
       " 18,\n",
       " 18,\n",
       " 18,\n",
       " 18,\n",
       " 18,\n",
       " 18,\n",
       " 18,\n",
       " 18,\n",
       " 18,\n",
       " 18,\n",
       " 18,\n",
       " 17,\n",
       " 17,\n",
       " 17,\n",
       " 17,\n",
       " 17,\n",
       " 17,\n",
       " 17,\n",
       " 17,\n",
       " 17,\n",
       " 17,\n",
       " 17,\n",
       " 17,\n",
       " 17,\n",
       " 17,\n",
       " 17,\n",
       " 17,\n",
       " 17,\n",
       " 17,\n",
       " 17,\n",
       " 17,\n",
       " 17,\n",
       " 17,\n",
       " 17,\n",
       " 17,\n",
       " 16,\n",
       " 16,\n",
       " 16,\n",
       " 16,\n",
       " 16,\n",
       " 16,\n",
       " 16,\n",
       " 16,\n",
       " 16,\n",
       " 16,\n",
       " 16,\n",
       " 15,\n",
       " 15,\n",
       " 15,\n",
       " 15,\n",
       " 15,\n",
       " 15,\n",
       " 15,\n",
       " 14,\n",
       " 14,\n",
       " 14,\n",
       " 14,\n",
       " 14,\n",
       " 14,\n",
       " 14,\n",
       " 14,\n",
       " 14,\n",
       " 14,\n",
       " 13,\n",
       " 13,\n",
       " 13,\n",
       " 13,\n",
       " 13,\n",
       " 13,\n",
       " 13,\n",
       " 13,\n",
       " 13,\n",
       " 12,\n",
       " 12,\n",
       " 12,\n",
       " 12,\n",
       " 12,\n",
       " 12,\n",
       " 12,\n",
       " 12,\n",
       " 12,\n",
       " 12,\n",
       " 12,\n",
       " 11,\n",
       " 11,\n",
       " 11,\n",
       " 11,\n",
       " 11,\n",
       " 10,\n",
       " 10,\n",
       " 10,\n",
       " 10,\n",
       " 10,\n",
       " 10,\n",
       " 10,\n",
       " 10,\n",
       " 9,\n",
       " 9,\n",
       " 9,\n",
       " 9,\n",
       " 9,\n",
       " 8,\n",
       " 8,\n",
       " 8,\n",
       " 8,\n",
       " 8,\n",
       " 8,\n",
       " 8,\n",
       " 8,\n",
       " 7,\n",
       " 7,\n",
       " 7,\n",
       " 7,\n",
       " 7,\n",
       " 7,\n",
       " 7,\n",
       " 6,\n",
       " 6,\n",
       " 6,\n",
       " 6,\n",
       " 6,\n",
       " 6,\n",
       " 5,\n",
       " 5,\n",
       " 5,\n",
       " 4,\n",
       " 4,\n",
       " 4,\n",
       " 4,\n",
       " 4,\n",
       " 4,\n",
       " 4,\n",
       " 4,\n",
       " 4,\n",
       " 3,\n",
       " 3,\n",
       " 3,\n",
       " 3,\n",
       " 3,\n",
       " 3,\n",
       " 2,\n",
       " 2,\n",
       " 2,\n",
       " 2,\n",
       " 1,\n",
       " 1,\n",
       " 1,\n",
       " 0,\n",
       " 0,\n",
       " 0,\n",
       " 0,\n",
       " 0]"
      ]
     },
     "execution_count": 36,
     "metadata": {},
     "output_type": "execute_result"
    }
   ],
   "source": [
    "sorted(a, reverse=True)"
   ]
  },
  {
   "cell_type": "code",
   "execution_count": 37,
   "id": "6bf82863",
   "metadata": {
    "execution": {
     "iopub.execute_input": "2023-04-10T10:26:30.128741Z",
     "iopub.status.busy": "2023-04-10T10:26:30.128128Z",
     "iopub.status.idle": "2023-04-10T10:26:30.135047Z",
     "shell.execute_reply": "2023-04-10T10:26:30.134022Z"
    },
    "papermill": {
     "duration": 0.040158,
     "end_time": "2023-04-10T10:26:30.137332",
     "exception": false,
     "start_time": "2023-04-10T10:26:30.097174",
     "status": "completed"
    },
    "tags": []
   },
   "outputs": [
    {
     "data": {
      "text/plain": [
       "a    1\n",
       "b    2\n",
       "c    4\n",
       "d    6\n",
       "e    7\n",
       "dtype: int64"
      ]
     },
     "execution_count": 37,
     "metadata": {},
     "output_type": "execute_result"
    }
   ],
   "source": [
    "#series to list\n",
    "g=pd.Series([1,2,4,6,7], index=['a','b','c','d','e'])\n",
    "g"
   ]
  },
  {
   "cell_type": "code",
   "execution_count": 38,
   "id": "05fd66e6",
   "metadata": {
    "execution": {
     "iopub.execute_input": "2023-04-10T10:26:30.201264Z",
     "iopub.status.busy": "2023-04-10T10:26:30.200316Z",
     "iopub.status.idle": "2023-04-10T10:26:30.207211Z",
     "shell.execute_reply": "2023-04-10T10:26:30.205702Z"
    },
    "papermill": {
     "duration": 0.041129,
     "end_time": "2023-04-10T10:26:30.209573",
     "exception": false,
     "start_time": "2023-04-10T10:26:30.168444",
     "status": "completed"
    },
    "tags": []
   },
   "outputs": [
    {
     "data": {
      "text/plain": [
       "[1, 2, 4, 6, 7]"
      ]
     },
     "execution_count": 38,
     "metadata": {},
     "output_type": "execute_result"
    }
   ],
   "source": [
    "m=list(g)\n",
    "m"
   ]
  },
  {
   "cell_type": "code",
   "execution_count": 39,
   "id": "f70b4c45",
   "metadata": {
    "execution": {
     "iopub.execute_input": "2023-04-10T10:26:30.272548Z",
     "iopub.status.busy": "2023-04-10T10:26:30.271357Z",
     "iopub.status.idle": "2023-04-10T10:26:30.278892Z",
     "shell.execute_reply": "2023-04-10T10:26:30.277475Z"
    },
    "papermill": {
     "duration": 0.04014,
     "end_time": "2023-04-10T10:26:30.280881",
     "exception": false,
     "start_time": "2023-04-10T10:26:30.240741",
     "status": "completed"
    },
    "tags": []
   },
   "outputs": [
    {
     "data": {
      "text/plain": [
       "{'a': 1, 'b': 2, 'c': 4, 'd': 6, 'e': 7}"
      ]
     },
     "execution_count": 39,
     "metadata": {},
     "output_type": "execute_result"
    }
   ],
   "source": [
    "#series to dict\n",
    "n=dict(g)\n",
    "n"
   ]
  },
  {
   "cell_type": "code",
   "execution_count": 40,
   "id": "4830afec",
   "metadata": {
    "execution": {
     "iopub.execute_input": "2023-04-10T10:26:30.342640Z",
     "iopub.status.busy": "2023-04-10T10:26:30.342259Z",
     "iopub.status.idle": "2023-04-10T10:26:30.348160Z",
     "shell.execute_reply": "2023-04-10T10:26:30.347250Z"
    },
    "papermill": {
     "duration": 0.03939,
     "end_time": "2023-04-10T10:26:30.350143",
     "exception": false,
     "start_time": "2023-04-10T10:26:30.310753",
     "status": "completed"
    },
    "tags": []
   },
   "outputs": [
    {
     "data": {
      "text/plain": [
       "pandas.core.series.Series"
      ]
     },
     "execution_count": 40,
     "metadata": {},
     "output_type": "execute_result"
    }
   ],
   "source": [
    "type(g)"
   ]
  },
  {
   "cell_type": "code",
   "execution_count": 41,
   "id": "c427dc36",
   "metadata": {
    "execution": {
     "iopub.execute_input": "2023-04-10T10:26:30.413318Z",
     "iopub.status.busy": "2023-04-10T10:26:30.412204Z",
     "iopub.status.idle": "2023-04-10T10:26:30.418820Z",
     "shell.execute_reply": "2023-04-10T10:26:30.417627Z"
    },
    "papermill": {
     "duration": 0.040501,
     "end_time": "2023-04-10T10:26:30.420934",
     "exception": false,
     "start_time": "2023-04-10T10:26:30.380433",
     "status": "completed"
    },
    "tags": []
   },
   "outputs": [],
   "source": [
    "w=pd.Series([True,False,True,True])\n",
    "w1=pd.Series([True,True,True,True])\n",
    "w2=pd.Series([False,False,False,False])\n"
   ]
  },
  {
   "cell_type": "code",
   "execution_count": 42,
   "id": "c765f78c",
   "metadata": {
    "execution": {
     "iopub.execute_input": "2023-04-10T10:26:30.484301Z",
     "iopub.status.busy": "2023-04-10T10:26:30.483908Z",
     "iopub.status.idle": "2023-04-10T10:26:30.489826Z",
     "shell.execute_reply": "2023-04-10T10:26:30.488981Z"
    },
    "papermill": {
     "duration": 0.040793,
     "end_time": "2023-04-10T10:26:30.491657",
     "exception": false,
     "start_time": "2023-04-10T10:26:30.450864",
     "status": "completed"
    },
    "tags": []
   },
   "outputs": [
    {
     "data": {
      "text/plain": [
       "False"
      ]
     },
     "execution_count": 42,
     "metadata": {},
     "output_type": "execute_result"
    }
   ],
   "source": [
    "w.all()  # it returns true when all elements are true in series else it gives false"
   ]
  },
  {
   "cell_type": "code",
   "execution_count": 43,
   "id": "9e05b66d",
   "metadata": {
    "execution": {
     "iopub.execute_input": "2023-04-10T10:26:30.555313Z",
     "iopub.status.busy": "2023-04-10T10:26:30.554928Z",
     "iopub.status.idle": "2023-04-10T10:26:30.561571Z",
     "shell.execute_reply": "2023-04-10T10:26:30.560417Z"
    },
    "papermill": {
     "duration": 0.040521,
     "end_time": "2023-04-10T10:26:30.563389",
     "exception": false,
     "start_time": "2023-04-10T10:26:30.522868",
     "status": "completed"
    },
    "tags": []
   },
   "outputs": [
    {
     "data": {
      "text/plain": [
       "True"
      ]
     },
     "execution_count": 43,
     "metadata": {},
     "output_type": "execute_result"
    }
   ],
   "source": [
    "w1.all()"
   ]
  },
  {
   "cell_type": "code",
   "execution_count": 44,
   "id": "bc357009",
   "metadata": {
    "execution": {
     "iopub.execute_input": "2023-04-10T10:26:30.627026Z",
     "iopub.status.busy": "2023-04-10T10:26:30.626655Z",
     "iopub.status.idle": "2023-04-10T10:26:30.633201Z",
     "shell.execute_reply": "2023-04-10T10:26:30.631662Z"
    },
    "papermill": {
     "duration": 0.041133,
     "end_time": "2023-04-10T10:26:30.635078",
     "exception": false,
     "start_time": "2023-04-10T10:26:30.593945",
     "status": "completed"
    },
    "tags": []
   },
   "outputs": [
    {
     "data": {
      "text/plain": [
       "True"
      ]
     },
     "execution_count": 44,
     "metadata": {},
     "output_type": "execute_result"
    }
   ],
   "source": [
    "w.any()   #it return true if any one of elements is true in series."
   ]
  },
  {
   "cell_type": "code",
   "execution_count": 45,
   "id": "c214aa77",
   "metadata": {
    "execution": {
     "iopub.execute_input": "2023-04-10T10:26:30.698423Z",
     "iopub.status.busy": "2023-04-10T10:26:30.698006Z",
     "iopub.status.idle": "2023-04-10T10:26:30.705194Z",
     "shell.execute_reply": "2023-04-10T10:26:30.704082Z"
    },
    "papermill": {
     "duration": 0.040911,
     "end_time": "2023-04-10T10:26:30.707082",
     "exception": false,
     "start_time": "2023-04-10T10:26:30.666171",
     "status": "completed"
    },
    "tags": []
   },
   "outputs": [
    {
     "data": {
      "text/plain": [
       "False"
      ]
     },
     "execution_count": 45,
     "metadata": {},
     "output_type": "execute_result"
    }
   ],
   "source": [
    "w2.any()"
   ]
  },
  {
   "cell_type": "code",
   "execution_count": 46,
   "id": "d243b977",
   "metadata": {
    "execution": {
     "iopub.execute_input": "2023-04-10T10:26:30.769918Z",
     "iopub.status.busy": "2023-04-10T10:26:30.769541Z",
     "iopub.status.idle": "2023-04-10T10:26:30.777791Z",
     "shell.execute_reply": "2023-04-10T10:26:30.776431Z"
    },
    "papermill": {
     "duration": 0.042762,
     "end_time": "2023-04-10T10:26:30.779873",
     "exception": false,
     "start_time": "2023-04-10T10:26:30.737111",
     "status": "completed"
    },
    "tags": []
   },
   "outputs": [
    {
     "data": {
      "text/plain": [
       "A     1\n",
       "B    34\n",
       "C    56\n",
       "D    78\n",
       "dtype: int64"
      ]
     },
     "execution_count": 46,
     "metadata": {},
     "output_type": "execute_result"
    }
   ],
   "source": [
    "h=pd.Series([1,34,56,78], index=['A','B','C','D'])\n",
    "h"
   ]
  },
  {
   "cell_type": "code",
   "execution_count": 47,
   "id": "cedc1990",
   "metadata": {
    "execution": {
     "iopub.execute_input": "2023-04-10T10:26:30.842991Z",
     "iopub.status.busy": "2023-04-10T10:26:30.842621Z",
     "iopub.status.idle": "2023-04-10T10:26:30.850576Z",
     "shell.execute_reply": "2023-04-10T10:26:30.849092Z"
    },
    "papermill": {
     "duration": 0.042363,
     "end_time": "2023-04-10T10:26:30.852978",
     "exception": false,
     "start_time": "2023-04-10T10:26:30.810615",
     "status": "completed"
    },
    "tags": []
   },
   "outputs": [
    {
     "data": {
      "text/plain": [
       "pyA     1\n",
       "pyB    34\n",
       "pyC    56\n",
       "pyD    78\n",
       "dtype: int64"
      ]
     },
     "execution_count": 47,
     "metadata": {},
     "output_type": "execute_result"
    }
   ],
   "source": [
    "#to add prefix on index we use add_prefix() method\n",
    "h.add_prefix('py')"
   ]
  },
  {
   "cell_type": "code",
   "execution_count": 48,
   "id": "c957ae65",
   "metadata": {
    "execution": {
     "iopub.execute_input": "2023-04-10T10:26:30.916439Z",
     "iopub.status.busy": "2023-04-10T10:26:30.916026Z",
     "iopub.status.idle": "2023-04-10T10:26:30.923032Z",
     "shell.execute_reply": "2023-04-10T10:26:30.922156Z"
    },
    "papermill": {
     "duration": 0.041571,
     "end_time": "2023-04-10T10:26:30.925546",
     "exception": false,
     "start_time": "2023-04-10T10:26:30.883975",
     "status": "completed"
    },
    "tags": []
   },
   "outputs": [
    {
     "data": {
      "text/plain": [
       "Az     1\n",
       "Bz    34\n",
       "Cz    56\n",
       "Dz    78\n",
       "dtype: int64"
      ]
     },
     "execution_count": 48,
     "metadata": {},
     "output_type": "execute_result"
    }
   ],
   "source": [
    "#to add suffix on index we use add-suffix() method\n",
    "h.add_suffix('z')"
   ]
  },
  {
   "cell_type": "markdown",
   "id": "b53e7f87",
   "metadata": {
    "papermill": {
     "duration": 0.029893,
     "end_time": "2023-04-10T10:26:30.986232",
     "exception": false,
     "start_time": "2023-04-10T10:26:30.956339",
     "status": "completed"
    },
    "tags": []
   },
   "source": [
    "**sorting with inplace value**"
   ]
  },
  {
   "cell_type": "code",
   "execution_count": 49,
   "id": "30607030",
   "metadata": {
    "execution": {
     "iopub.execute_input": "2023-04-10T10:26:31.051036Z",
     "iopub.status.busy": "2023-04-10T10:26:31.050663Z",
     "iopub.status.idle": "2023-04-10T10:26:31.055182Z",
     "shell.execute_reply": "2023-04-10T10:26:31.054272Z"
    },
    "papermill": {
     "duration": 0.039737,
     "end_time": "2023-04-10T10:26:31.057500",
     "exception": false,
     "start_time": "2023-04-10T10:26:31.017763",
     "status": "completed"
    },
    "tags": []
   },
   "outputs": [],
   "source": [
    "import numpy as np"
   ]
  },
  {
   "cell_type": "code",
   "execution_count": 50,
   "id": "ce1e3ce4",
   "metadata": {
    "execution": {
     "iopub.execute_input": "2023-04-10T10:26:31.121881Z",
     "iopub.status.busy": "2023-04-10T10:26:31.121535Z",
     "iopub.status.idle": "2023-04-10T10:26:31.128998Z",
     "shell.execute_reply": "2023-04-10T10:26:31.128267Z"
    },
    "papermill": {
     "duration": 0.041624,
     "end_time": "2023-04-10T10:26:31.130777",
     "exception": false,
     "start_time": "2023-04-10T10:26:31.089153",
     "status": "completed"
    },
    "tags": []
   },
   "outputs": [
    {
     "data": {
      "text/plain": [
       "0     2\n",
       "1    34\n",
       "2    56\n",
       "3    32\n",
       "4    34\n",
       "5    78\n",
       "6     2\n",
       "7     9\n",
       "8     1\n",
       "dtype: int64"
      ]
     },
     "execution_count": 50,
     "metadata": {},
     "output_type": "execute_result"
    }
   ],
   "source": [
    "f=pd.Series([2,34,56,32,34,78,2,9,1])\n",
    "f"
   ]
  },
  {
   "cell_type": "code",
   "execution_count": 51,
   "id": "8c56c548",
   "metadata": {
    "execution": {
     "iopub.execute_input": "2023-04-10T10:26:31.195119Z",
     "iopub.status.busy": "2023-04-10T10:26:31.194754Z",
     "iopub.status.idle": "2023-04-10T10:26:31.201227Z",
     "shell.execute_reply": "2023-04-10T10:26:31.200527Z"
    },
    "papermill": {
     "duration": 0.041027,
     "end_time": "2023-04-10T10:26:31.202872",
     "exception": false,
     "start_time": "2023-04-10T10:26:31.161845",
     "status": "completed"
    },
    "tags": []
   },
   "outputs": [
    {
     "data": {
      "text/plain": [
       "5    78\n",
       "2    56\n",
       "1    34\n",
       "4    34\n",
       "3    32\n",
       "7     9\n",
       "0     2\n",
       "6     2\n",
       "8     1\n",
       "dtype: int64"
      ]
     },
     "execution_count": 51,
     "metadata": {},
     "output_type": "execute_result"
    }
   ],
   "source": [
    "f.sort_values(ascending = False)"
   ]
  },
  {
   "cell_type": "code",
   "execution_count": 52,
   "id": "f7559474",
   "metadata": {
    "execution": {
     "iopub.execute_input": "2023-04-10T10:26:31.265656Z",
     "iopub.status.busy": "2023-04-10T10:26:31.265281Z",
     "iopub.status.idle": "2023-04-10T10:26:31.272381Z",
     "shell.execute_reply": "2023-04-10T10:26:31.271215Z"
    },
    "papermill": {
     "duration": 0.041026,
     "end_time": "2023-04-10T10:26:31.274459",
     "exception": false,
     "start_time": "2023-04-10T10:26:31.233433",
     "status": "completed"
    },
    "tags": []
   },
   "outputs": [
    {
     "data": {
      "text/plain": [
       "8     1\n",
       "0     2\n",
       "6     2\n",
       "7     9\n",
       "3    32\n",
       "1    34\n",
       "4    34\n",
       "2    56\n",
       "5    78\n",
       "dtype: int64"
      ]
     },
     "execution_count": 52,
     "metadata": {},
     "output_type": "execute_result"
    }
   ],
   "source": [
    "f.sort_values(inplace= True)  #inplace = True ,make the changes on real array or series\n",
    "f"
   ]
  },
  {
   "cell_type": "code",
   "execution_count": 53,
   "id": "a4ff3b7f",
   "metadata": {
    "execution": {
     "iopub.execute_input": "2023-04-10T10:26:31.336961Z",
     "iopub.status.busy": "2023-04-10T10:26:31.336534Z",
     "iopub.status.idle": "2023-04-10T10:26:31.347999Z",
     "shell.execute_reply": "2023-04-10T10:26:31.347193Z"
    },
    "papermill": {
     "duration": 0.045205,
     "end_time": "2023-04-10T10:26:31.349682",
     "exception": false,
     "start_time": "2023-04-10T10:26:31.304477",
     "status": "completed"
    },
    "tags": []
   },
   "outputs": [
    {
     "data": {
      "text/plain": [
       "0     2\n",
       "1    34\n",
       "2    56\n",
       "3    32\n",
       "4    34\n",
       "5    78\n",
       "6     2\n",
       "7     9\n",
       "8     1\n",
       "dtype: int64"
      ]
     },
     "execution_count": 53,
     "metadata": {},
     "output_type": "execute_result"
    }
   ],
   "source": [
    "f.sort_index(inplace= True)\n",
    "f"
   ]
  },
  {
   "cell_type": "markdown",
   "id": "fa9058eb",
   "metadata": {
    "papermill": {
     "duration": 0.032148,
     "end_time": "2023-04-10T10:26:31.412712",
     "exception": false,
     "start_time": "2023-04-10T10:26:31.380564",
     "status": "completed"
    },
    "tags": []
   },
   "source": [
    "**drop_duplicates method**"
   ]
  },
  {
   "cell_type": "code",
   "execution_count": 54,
   "id": "ed70efd5",
   "metadata": {
    "execution": {
     "iopub.execute_input": "2023-04-10T10:26:31.476953Z",
     "iopub.status.busy": "2023-04-10T10:26:31.476572Z",
     "iopub.status.idle": "2023-04-10T10:26:31.484051Z",
     "shell.execute_reply": "2023-04-10T10:26:31.483135Z"
    },
    "papermill": {
     "duration": 0.042682,
     "end_time": "2023-04-10T10:26:31.486741",
     "exception": false,
     "start_time": "2023-04-10T10:26:31.444059",
     "status": "completed"
    },
    "tags": []
   },
   "outputs": [
    {
     "data": {
      "text/plain": [
       "monica    23\n",
       "rachel    45\n",
       "joe       34\n",
       "joe       34\n",
       "ross      23\n",
       "joe       34\n",
       "dtype: int64"
      ]
     },
     "execution_count": 54,
     "metadata": {},
     "output_type": "execute_result"
    }
   ],
   "source": [
    "x=pd.Series([23,45,34,34,23,34], index=['monica','rachel','joe','joe','ross','joe'])\n",
    "x"
   ]
  },
  {
   "cell_type": "code",
   "execution_count": 55,
   "id": "84d28d99",
   "metadata": {
    "execution": {
     "iopub.execute_input": "2023-04-10T10:26:31.552557Z",
     "iopub.status.busy": "2023-04-10T10:26:31.552205Z",
     "iopub.status.idle": "2023-04-10T10:26:31.561640Z",
     "shell.execute_reply": "2023-04-10T10:26:31.560390Z"
    },
    "papermill": {
     "duration": 0.045743,
     "end_time": "2023-04-10T10:26:31.564326",
     "exception": false,
     "start_time": "2023-04-10T10:26:31.518583",
     "status": "completed"
    },
    "tags": []
   },
   "outputs": [
    {
     "data": {
      "text/plain": [
       "rachel    45\n",
       "ross      23\n",
       "joe       34\n",
       "dtype: int64"
      ]
     },
     "execution_count": 55,
     "metadata": {},
     "output_type": "execute_result"
    }
   ],
   "source": [
    "x.drop_duplicates(keep ='last')"
   ]
  },
  {
   "cell_type": "code",
   "execution_count": 56,
   "id": "9d4d5725",
   "metadata": {
    "execution": {
     "iopub.execute_input": "2023-04-10T10:26:31.629109Z",
     "iopub.status.busy": "2023-04-10T10:26:31.628525Z",
     "iopub.status.idle": "2023-04-10T10:26:31.635462Z",
     "shell.execute_reply": "2023-04-10T10:26:31.634340Z"
    },
    "papermill": {
     "duration": 0.041284,
     "end_time": "2023-04-10T10:26:31.637285",
     "exception": false,
     "start_time": "2023-04-10T10:26:31.596001",
     "status": "completed"
    },
    "tags": []
   },
   "outputs": [
    {
     "data": {
      "text/plain": [
       "rachel    45\n",
       "dtype: int64"
      ]
     },
     "execution_count": 56,
     "metadata": {},
     "output_type": "execute_result"
    }
   ],
   "source": [
    "x.drop_duplicates(keep= False)"
   ]
  },
  {
   "cell_type": "code",
   "execution_count": 57,
   "id": "0bc0f411",
   "metadata": {
    "execution": {
     "iopub.execute_input": "2023-04-10T10:26:31.703133Z",
     "iopub.status.busy": "2023-04-10T10:26:31.701875Z",
     "iopub.status.idle": "2023-04-10T10:26:31.715625Z",
     "shell.execute_reply": "2023-04-10T10:26:31.714587Z"
    },
    "papermill": {
     "duration": 0.048835,
     "end_time": "2023-04-10T10:26:31.717407",
     "exception": false,
     "start_time": "2023-04-10T10:26:31.668572",
     "status": "completed"
    },
    "tags": []
   },
   "outputs": [
    {
     "data": {
      "text/plain": [
       "0      22\n",
       "1      23\n",
       "2      21\n",
       "3      21\n",
       "4      21\n",
       "       ..\n",
       "651    36\n",
       "652    41\n",
       "653    31\n",
       "654    32\n",
       "655    31\n",
       "Name: popularity, Length: 656, dtype: int64"
      ]
     },
     "execution_count": 57,
     "metadata": {},
     "output_type": "execute_result"
    }
   ],
   "source": [
    "z=pd.read_csv('/kaggle/input/ed-sheeran-spotify-dataset/ed_sheeran_spotify.csv', usecols= ['popularity'], squeeze= True)\n",
    "z"
   ]
  },
  {
   "cell_type": "code",
   "execution_count": 58,
   "id": "88cc5cb6",
   "metadata": {
    "execution": {
     "iopub.execute_input": "2023-04-10T10:26:31.782622Z",
     "iopub.status.busy": "2023-04-10T10:26:31.782232Z",
     "iopub.status.idle": "2023-04-10T10:26:31.788297Z",
     "shell.execute_reply": "2023-04-10T10:26:31.787336Z"
    },
    "papermill": {
     "duration": 0.041369,
     "end_time": "2023-04-10T10:26:31.790991",
     "exception": false,
     "start_time": "2023-04-10T10:26:31.749622",
     "status": "completed"
    },
    "tags": []
   },
   "outputs": [
    {
     "data": {
      "text/plain": [
       "656"
      ]
     },
     "execution_count": 58,
     "metadata": {},
     "output_type": "execute_result"
    }
   ],
   "source": [
    "len(z)"
   ]
  },
  {
   "cell_type": "code",
   "execution_count": 59,
   "id": "a740082c",
   "metadata": {
    "execution": {
     "iopub.execute_input": "2023-04-10T10:26:31.855342Z",
     "iopub.status.busy": "2023-04-10T10:26:31.854941Z",
     "iopub.status.idle": "2023-04-10T10:26:31.860418Z",
     "shell.execute_reply": "2023-04-10T10:26:31.858968Z"
    },
    "papermill": {
     "duration": 0.039675,
     "end_time": "2023-04-10T10:26:31.862268",
     "exception": false,
     "start_time": "2023-04-10T10:26:31.822593",
     "status": "completed"
    },
    "tags": []
   },
   "outputs": [],
   "source": [
    "z=z.drop_duplicates( keep= False)"
   ]
  },
  {
   "cell_type": "code",
   "execution_count": 60,
   "id": "40cb73df",
   "metadata": {
    "execution": {
     "iopub.execute_input": "2023-04-10T10:26:31.926111Z",
     "iopub.status.busy": "2023-04-10T10:26:31.925726Z",
     "iopub.status.idle": "2023-04-10T10:26:31.931980Z",
     "shell.execute_reply": "2023-04-10T10:26:31.930376Z"
    },
    "papermill": {
     "duration": 0.040772,
     "end_time": "2023-04-10T10:26:31.934146",
     "exception": false,
     "start_time": "2023-04-10T10:26:31.893374",
     "status": "completed"
    },
    "tags": []
   },
   "outputs": [
    {
     "data": {
      "text/plain": [
       "8"
      ]
     },
     "execution_count": 60,
     "metadata": {},
     "output_type": "execute_result"
    }
   ],
   "source": [
    "len(z)"
   ]
  },
  {
   "cell_type": "markdown",
   "id": "be845556",
   "metadata": {
    "papermill": {
     "duration": 0.031175,
     "end_time": "2023-04-10T10:26:31.996997",
     "exception": false,
     "start_time": "2023-04-10T10:26:31.965822",
     "status": "completed"
    },
    "tags": []
   },
   "source": [
    "**Handling null values**"
   ]
  },
  {
   "cell_type": "code",
   "execution_count": 61,
   "id": "5257ec53",
   "metadata": {
    "execution": {
     "iopub.execute_input": "2023-04-10T10:26:32.062846Z",
     "iopub.status.busy": "2023-04-10T10:26:32.062207Z",
     "iopub.status.idle": "2023-04-10T10:26:32.070099Z",
     "shell.execute_reply": "2023-04-10T10:26:32.069367Z"
    },
    "papermill": {
     "duration": 0.043085,
     "end_time": "2023-04-10T10:26:32.071881",
     "exception": false,
     "start_time": "2023-04-10T10:26:32.028796",
     "status": "completed"
    },
    "tags": []
   },
   "outputs": [
    {
     "data": {
      "text/plain": [
       "Pune       23.0\n",
       "chennai    67.0\n",
       "jaipur     45.0\n",
       "Noida      78.0\n",
       "bhpl        NaN\n",
       "dtype: float64"
      ]
     },
     "execution_count": 61,
     "metadata": {},
     "output_type": "execute_result"
    }
   ],
   "source": [
    "q=pd.Series([23,67,45,78,None], index=['Pune','chennai','jaipur','Noida','bhpl'])\n",
    "q"
   ]
  },
  {
   "cell_type": "code",
   "execution_count": 62,
   "id": "194e0620",
   "metadata": {
    "execution": {
     "iopub.execute_input": "2023-04-10T10:26:32.140270Z",
     "iopub.status.busy": "2023-04-10T10:26:32.139592Z",
     "iopub.status.idle": "2023-04-10T10:26:32.144097Z",
     "shell.execute_reply": "2023-04-10T10:26:32.143419Z"
    },
    "papermill": {
     "duration": 0.040698,
     "end_time": "2023-04-10T10:26:32.146029",
     "exception": false,
     "start_time": "2023-04-10T10:26:32.105331",
     "status": "completed"
    },
    "tags": []
   },
   "outputs": [],
   "source": [
    "mask=q.isna()  #to find the null value"
   ]
  },
  {
   "cell_type": "code",
   "execution_count": 63,
   "id": "28e69da6",
   "metadata": {
    "execution": {
     "iopub.execute_input": "2023-04-10T10:26:32.211414Z",
     "iopub.status.busy": "2023-04-10T10:26:32.210777Z",
     "iopub.status.idle": "2023-04-10T10:26:32.217528Z",
     "shell.execute_reply": "2023-04-10T10:26:32.216854Z"
    },
    "papermill": {
     "duration": 0.041602,
     "end_time": "2023-04-10T10:26:32.219316",
     "exception": false,
     "start_time": "2023-04-10T10:26:32.177714",
     "status": "completed"
    },
    "tags": []
   },
   "outputs": [
    {
     "data": {
      "text/plain": [
       "bhpl   NaN\n",
       "dtype: float64"
      ]
     },
     "execution_count": 63,
     "metadata": {},
     "output_type": "execute_result"
    }
   ],
   "source": [
    "q[mask]"
   ]
  },
  {
   "cell_type": "code",
   "execution_count": 64,
   "id": "a4a28cd7",
   "metadata": {
    "execution": {
     "iopub.execute_input": "2023-04-10T10:26:32.286217Z",
     "iopub.status.busy": "2023-04-10T10:26:32.285835Z",
     "iopub.status.idle": "2023-04-10T10:26:32.293851Z",
     "shell.execute_reply": "2023-04-10T10:26:32.292824Z"
    },
    "papermill": {
     "duration": 0.044672,
     "end_time": "2023-04-10T10:26:32.295644",
     "exception": false,
     "start_time": "2023-04-10T10:26:32.250972",
     "status": "completed"
    },
    "tags": []
   },
   "outputs": [
    {
     "data": {
      "text/plain": [
       "Pune       23.0\n",
       "chennai    67.0\n",
       "jaipur     45.0\n",
       "Noida      78.0\n",
       "dtype: float64"
      ]
     },
     "execution_count": 64,
     "metadata": {},
     "output_type": "execute_result"
    }
   ],
   "source": [
    "q.dropna()"
   ]
  },
  {
   "cell_type": "code",
   "execution_count": 65,
   "id": "978b6473",
   "metadata": {
    "execution": {
     "iopub.execute_input": "2023-04-10T10:26:32.360886Z",
     "iopub.status.busy": "2023-04-10T10:26:32.358984Z",
     "iopub.status.idle": "2023-04-10T10:26:32.367585Z",
     "shell.execute_reply": "2023-04-10T10:26:32.366516Z"
    },
    "papermill": {
     "duration": 0.042721,
     "end_time": "2023-04-10T10:26:32.369595",
     "exception": false,
     "start_time": "2023-04-10T10:26:32.326874",
     "status": "completed"
    },
    "tags": []
   },
   "outputs": [
    {
     "data": {
      "text/plain": [
       "Pune       23.0\n",
       "chennai    67.0\n",
       "jaipur     45.0\n",
       "Noida      78.0\n",
       "bhpl       35.0\n",
       "dtype: float64"
      ]
     },
     "execution_count": 65,
     "metadata": {},
     "output_type": "execute_result"
    }
   ],
   "source": [
    "q.fillna(35)   #to fill the null value"
   ]
  },
  {
   "cell_type": "code",
   "execution_count": 66,
   "id": "eac5a064",
   "metadata": {
    "collapsed": true,
    "execution": {
     "iopub.execute_input": "2023-04-10T10:26:32.439003Z",
     "iopub.status.busy": "2023-04-10T10:26:32.438684Z",
     "iopub.status.idle": "2023-04-10T10:26:32.537833Z",
     "shell.execute_reply": "2023-04-10T10:26:32.536463Z"
    },
    "jupyter": {
     "outputs_hidden": true
    },
    "papermill": {
     "duration": 0.13845,
     "end_time": "2023-04-10T10:26:32.540171",
     "exception": false,
     "start_time": "2023-04-10T10:26:32.401721",
     "status": "completed"
    },
    "tags": []
   },
   "outputs": [
    {
     "data": {
      "text/html": [
       "<div>\n",
       "<style scoped>\n",
       "    .dataframe tbody tr th:only-of-type {\n",
       "        vertical-align: middle;\n",
       "    }\n",
       "\n",
       "    .dataframe tbody tr th {\n",
       "        vertical-align: top;\n",
       "    }\n",
       "\n",
       "    .dataframe thead th {\n",
       "        text-align: right;\n",
       "    }\n",
       "</style>\n",
       "<table border=\"1\" class=\"dataframe\">\n",
       "  <thead>\n",
       "    <tr style=\"text-align: right;\">\n",
       "      <th></th>\n",
       "      <th>Rank</th>\n",
       "      <th>Name</th>\n",
       "      <th>Platform</th>\n",
       "      <th>Year</th>\n",
       "      <th>Genre</th>\n",
       "      <th>Publisher</th>\n",
       "      <th>NA_Sales</th>\n",
       "      <th>EU_Sales</th>\n",
       "      <th>JP_Sales</th>\n",
       "      <th>Other_Sales</th>\n",
       "      <th>Global_Sales</th>\n",
       "    </tr>\n",
       "  </thead>\n",
       "  <tbody>\n",
       "    <tr>\n",
       "      <th>0</th>\n",
       "      <td>1</td>\n",
       "      <td>Wii Sports</td>\n",
       "      <td>Wii</td>\n",
       "      <td>2006.0</td>\n",
       "      <td>Sports</td>\n",
       "      <td>Nintendo</td>\n",
       "      <td>41.49</td>\n",
       "      <td>29.02</td>\n",
       "      <td>3.77</td>\n",
       "      <td>8.46</td>\n",
       "      <td>82.74</td>\n",
       "    </tr>\n",
       "    <tr>\n",
       "      <th>1</th>\n",
       "      <td>2</td>\n",
       "      <td>Super Mario Bros.</td>\n",
       "      <td>NES</td>\n",
       "      <td>1985.0</td>\n",
       "      <td>Platform</td>\n",
       "      <td>Nintendo</td>\n",
       "      <td>29.08</td>\n",
       "      <td>3.58</td>\n",
       "      <td>6.81</td>\n",
       "      <td>0.77</td>\n",
       "      <td>40.24</td>\n",
       "    </tr>\n",
       "    <tr>\n",
       "      <th>2</th>\n",
       "      <td>3</td>\n",
       "      <td>Mario Kart Wii</td>\n",
       "      <td>Wii</td>\n",
       "      <td>2008.0</td>\n",
       "      <td>Racing</td>\n",
       "      <td>Nintendo</td>\n",
       "      <td>15.85</td>\n",
       "      <td>12.88</td>\n",
       "      <td>3.79</td>\n",
       "      <td>3.31</td>\n",
       "      <td>35.82</td>\n",
       "    </tr>\n",
       "    <tr>\n",
       "      <th>3</th>\n",
       "      <td>4</td>\n",
       "      <td>Wii Sports Resort</td>\n",
       "      <td>Wii</td>\n",
       "      <td>2009.0</td>\n",
       "      <td>Sports</td>\n",
       "      <td>Nintendo</td>\n",
       "      <td>15.75</td>\n",
       "      <td>11.01</td>\n",
       "      <td>3.28</td>\n",
       "      <td>2.96</td>\n",
       "      <td>33.00</td>\n",
       "    </tr>\n",
       "    <tr>\n",
       "      <th>4</th>\n",
       "      <td>5</td>\n",
       "      <td>Pokemon Red/Pokemon Blue</td>\n",
       "      <td>GB</td>\n",
       "      <td>1996.0</td>\n",
       "      <td>Role-Playing</td>\n",
       "      <td>Nintendo</td>\n",
       "      <td>11.27</td>\n",
       "      <td>8.89</td>\n",
       "      <td>10.22</td>\n",
       "      <td>1.00</td>\n",
       "      <td>31.37</td>\n",
       "    </tr>\n",
       "    <tr>\n",
       "      <th>...</th>\n",
       "      <td>...</td>\n",
       "      <td>...</td>\n",
       "      <td>...</td>\n",
       "      <td>...</td>\n",
       "      <td>...</td>\n",
       "      <td>...</td>\n",
       "      <td>...</td>\n",
       "      <td>...</td>\n",
       "      <td>...</td>\n",
       "      <td>...</td>\n",
       "      <td>...</td>\n",
       "    </tr>\n",
       "    <tr>\n",
       "      <th>16593</th>\n",
       "      <td>16596</td>\n",
       "      <td>Woody Woodpecker in Crazy Castle 5</td>\n",
       "      <td>GBA</td>\n",
       "      <td>2002.0</td>\n",
       "      <td>Platform</td>\n",
       "      <td>Kemco</td>\n",
       "      <td>0.01</td>\n",
       "      <td>0.00</td>\n",
       "      <td>0.00</td>\n",
       "      <td>0.00</td>\n",
       "      <td>0.01</td>\n",
       "    </tr>\n",
       "    <tr>\n",
       "      <th>16594</th>\n",
       "      <td>16597</td>\n",
       "      <td>Men in Black II: Alien Escape</td>\n",
       "      <td>GC</td>\n",
       "      <td>2003.0</td>\n",
       "      <td>Shooter</td>\n",
       "      <td>Infogrames</td>\n",
       "      <td>0.01</td>\n",
       "      <td>0.00</td>\n",
       "      <td>0.00</td>\n",
       "      <td>0.00</td>\n",
       "      <td>0.01</td>\n",
       "    </tr>\n",
       "    <tr>\n",
       "      <th>16595</th>\n",
       "      <td>16598</td>\n",
       "      <td>SCORE International Baja 1000: The Official Game</td>\n",
       "      <td>PS2</td>\n",
       "      <td>2008.0</td>\n",
       "      <td>Racing</td>\n",
       "      <td>Activision</td>\n",
       "      <td>0.00</td>\n",
       "      <td>0.00</td>\n",
       "      <td>0.00</td>\n",
       "      <td>0.00</td>\n",
       "      <td>0.01</td>\n",
       "    </tr>\n",
       "    <tr>\n",
       "      <th>16596</th>\n",
       "      <td>16599</td>\n",
       "      <td>Know How 2</td>\n",
       "      <td>DS</td>\n",
       "      <td>2010.0</td>\n",
       "      <td>Puzzle</td>\n",
       "      <td>7G//AMES</td>\n",
       "      <td>0.00</td>\n",
       "      <td>0.01</td>\n",
       "      <td>0.00</td>\n",
       "      <td>0.00</td>\n",
       "      <td>0.01</td>\n",
       "    </tr>\n",
       "    <tr>\n",
       "      <th>16597</th>\n",
       "      <td>16600</td>\n",
       "      <td>Spirits &amp; Spells</td>\n",
       "      <td>GBA</td>\n",
       "      <td>2003.0</td>\n",
       "      <td>Platform</td>\n",
       "      <td>Wanadoo</td>\n",
       "      <td>0.01</td>\n",
       "      <td>0.00</td>\n",
       "      <td>0.00</td>\n",
       "      <td>0.00</td>\n",
       "      <td>0.01</td>\n",
       "    </tr>\n",
       "  </tbody>\n",
       "</table>\n",
       "<p>16598 rows × 11 columns</p>\n",
       "</div>"
      ],
      "text/plain": [
       "        Rank                                              Name Platform  \\\n",
       "0          1                                        Wii Sports      Wii   \n",
       "1          2                                 Super Mario Bros.      NES   \n",
       "2          3                                    Mario Kart Wii      Wii   \n",
       "3          4                                 Wii Sports Resort      Wii   \n",
       "4          5                          Pokemon Red/Pokemon Blue       GB   \n",
       "...      ...                                               ...      ...   \n",
       "16593  16596                Woody Woodpecker in Crazy Castle 5      GBA   \n",
       "16594  16597                     Men in Black II: Alien Escape       GC   \n",
       "16595  16598  SCORE International Baja 1000: The Official Game      PS2   \n",
       "16596  16599                                        Know How 2       DS   \n",
       "16597  16600                                  Spirits & Spells      GBA   \n",
       "\n",
       "         Year         Genre   Publisher  NA_Sales  EU_Sales  JP_Sales  \\\n",
       "0      2006.0        Sports    Nintendo     41.49     29.02      3.77   \n",
       "1      1985.0      Platform    Nintendo     29.08      3.58      6.81   \n",
       "2      2008.0        Racing    Nintendo     15.85     12.88      3.79   \n",
       "3      2009.0        Sports    Nintendo     15.75     11.01      3.28   \n",
       "4      1996.0  Role-Playing    Nintendo     11.27      8.89     10.22   \n",
       "...       ...           ...         ...       ...       ...       ...   \n",
       "16593  2002.0      Platform       Kemco      0.01      0.00      0.00   \n",
       "16594  2003.0       Shooter  Infogrames      0.01      0.00      0.00   \n",
       "16595  2008.0        Racing  Activision      0.00      0.00      0.00   \n",
       "16596  2010.0        Puzzle    7G//AMES      0.00      0.01      0.00   \n",
       "16597  2003.0      Platform     Wanadoo      0.01      0.00      0.00   \n",
       "\n",
       "       Other_Sales  Global_Sales  \n",
       "0             8.46         82.74  \n",
       "1             0.77         40.24  \n",
       "2             3.31         35.82  \n",
       "3             2.96         33.00  \n",
       "4             1.00         31.37  \n",
       "...            ...           ...  \n",
       "16593         0.00          0.01  \n",
       "16594         0.00          0.01  \n",
       "16595         0.00          0.01  \n",
       "16596         0.00          0.01  \n",
       "16597         0.00          0.01  \n",
       "\n",
       "[16598 rows x 11 columns]"
      ]
     },
     "execution_count": 66,
     "metadata": {},
     "output_type": "execute_result"
    }
   ],
   "source": [
    "j=pd.read_csv('/kaggle/input/videogamesales/vgsales.csv')\n",
    "j\n"
   ]
  },
  {
   "cell_type": "code",
   "execution_count": 67,
   "id": "877f8193",
   "metadata": {
    "execution": {
     "iopub.execute_input": "2023-04-10T10:26:32.607099Z",
     "iopub.status.busy": "2023-04-10T10:26:32.606723Z",
     "iopub.status.idle": "2023-04-10T10:26:32.642230Z",
     "shell.execute_reply": "2023-04-10T10:26:32.641035Z"
    },
    "papermill": {
     "duration": 0.072022,
     "end_time": "2023-04-10T10:26:32.644737",
     "exception": false,
     "start_time": "2023-04-10T10:26:32.572715",
     "status": "completed"
    },
    "tags": []
   },
   "outputs": [
    {
     "data": {
      "text/html": [
       "<div>\n",
       "<style scoped>\n",
       "    .dataframe tbody tr th:only-of-type {\n",
       "        vertical-align: middle;\n",
       "    }\n",
       "\n",
       "    .dataframe tbody tr th {\n",
       "        vertical-align: top;\n",
       "    }\n",
       "\n",
       "    .dataframe thead th {\n",
       "        text-align: right;\n",
       "    }\n",
       "</style>\n",
       "<table border=\"1\" class=\"dataframe\">\n",
       "  <thead>\n",
       "    <tr style=\"text-align: right;\">\n",
       "      <th></th>\n",
       "      <th>Rank</th>\n",
       "      <th>Year</th>\n",
       "      <th>NA_Sales</th>\n",
       "      <th>EU_Sales</th>\n",
       "      <th>JP_Sales</th>\n",
       "      <th>Other_Sales</th>\n",
       "      <th>Global_Sales</th>\n",
       "    </tr>\n",
       "  </thead>\n",
       "  <tbody>\n",
       "    <tr>\n",
       "      <th>count</th>\n",
       "      <td>16598.000000</td>\n",
       "      <td>16327.000000</td>\n",
       "      <td>16598.000000</td>\n",
       "      <td>16598.000000</td>\n",
       "      <td>16598.000000</td>\n",
       "      <td>16598.000000</td>\n",
       "      <td>16598.000000</td>\n",
       "    </tr>\n",
       "    <tr>\n",
       "      <th>mean</th>\n",
       "      <td>8300.605254</td>\n",
       "      <td>2006.406443</td>\n",
       "      <td>0.264667</td>\n",
       "      <td>0.146652</td>\n",
       "      <td>0.077782</td>\n",
       "      <td>0.048063</td>\n",
       "      <td>0.537441</td>\n",
       "    </tr>\n",
       "    <tr>\n",
       "      <th>std</th>\n",
       "      <td>4791.853933</td>\n",
       "      <td>5.828981</td>\n",
       "      <td>0.816683</td>\n",
       "      <td>0.505351</td>\n",
       "      <td>0.309291</td>\n",
       "      <td>0.188588</td>\n",
       "      <td>1.555028</td>\n",
       "    </tr>\n",
       "    <tr>\n",
       "      <th>min</th>\n",
       "      <td>1.000000</td>\n",
       "      <td>1980.000000</td>\n",
       "      <td>0.000000</td>\n",
       "      <td>0.000000</td>\n",
       "      <td>0.000000</td>\n",
       "      <td>0.000000</td>\n",
       "      <td>0.010000</td>\n",
       "    </tr>\n",
       "    <tr>\n",
       "      <th>25%</th>\n",
       "      <td>4151.250000</td>\n",
       "      <td>2003.000000</td>\n",
       "      <td>0.000000</td>\n",
       "      <td>0.000000</td>\n",
       "      <td>0.000000</td>\n",
       "      <td>0.000000</td>\n",
       "      <td>0.060000</td>\n",
       "    </tr>\n",
       "    <tr>\n",
       "      <th>50%</th>\n",
       "      <td>8300.500000</td>\n",
       "      <td>2007.000000</td>\n",
       "      <td>0.080000</td>\n",
       "      <td>0.020000</td>\n",
       "      <td>0.000000</td>\n",
       "      <td>0.010000</td>\n",
       "      <td>0.170000</td>\n",
       "    </tr>\n",
       "    <tr>\n",
       "      <th>75%</th>\n",
       "      <td>12449.750000</td>\n",
       "      <td>2010.000000</td>\n",
       "      <td>0.240000</td>\n",
       "      <td>0.110000</td>\n",
       "      <td>0.040000</td>\n",
       "      <td>0.040000</td>\n",
       "      <td>0.470000</td>\n",
       "    </tr>\n",
       "    <tr>\n",
       "      <th>max</th>\n",
       "      <td>16600.000000</td>\n",
       "      <td>2020.000000</td>\n",
       "      <td>41.490000</td>\n",
       "      <td>29.020000</td>\n",
       "      <td>10.220000</td>\n",
       "      <td>10.570000</td>\n",
       "      <td>82.740000</td>\n",
       "    </tr>\n",
       "  </tbody>\n",
       "</table>\n",
       "</div>"
      ],
      "text/plain": [
       "               Rank          Year      NA_Sales      EU_Sales      JP_Sales  \\\n",
       "count  16598.000000  16327.000000  16598.000000  16598.000000  16598.000000   \n",
       "mean    8300.605254   2006.406443      0.264667      0.146652      0.077782   \n",
       "std     4791.853933      5.828981      0.816683      0.505351      0.309291   \n",
       "min        1.000000   1980.000000      0.000000      0.000000      0.000000   \n",
       "25%     4151.250000   2003.000000      0.000000      0.000000      0.000000   \n",
       "50%     8300.500000   2007.000000      0.080000      0.020000      0.000000   \n",
       "75%    12449.750000   2010.000000      0.240000      0.110000      0.040000   \n",
       "max    16600.000000   2020.000000     41.490000     29.020000     10.220000   \n",
       "\n",
       "        Other_Sales  Global_Sales  \n",
       "count  16598.000000  16598.000000  \n",
       "mean       0.048063      0.537441  \n",
       "std        0.188588      1.555028  \n",
       "min        0.000000      0.010000  \n",
       "25%        0.000000      0.060000  \n",
       "50%        0.010000      0.170000  \n",
       "75%        0.040000      0.470000  \n",
       "max       10.570000     82.740000  "
      ]
     },
     "execution_count": 67,
     "metadata": {},
     "output_type": "execute_result"
    }
   ],
   "source": [
    "j.describe()"
   ]
  },
  {
   "cell_type": "code",
   "execution_count": 68,
   "id": "922cd2a5",
   "metadata": {
    "execution": {
     "iopub.execute_input": "2023-04-10T10:26:32.712327Z",
     "iopub.status.busy": "2023-04-10T10:26:32.711914Z",
     "iopub.status.idle": "2023-04-10T10:26:32.735732Z",
     "shell.execute_reply": "2023-04-10T10:26:32.734919Z"
    },
    "papermill": {
     "duration": 0.060608,
     "end_time": "2023-04-10T10:26:32.737988",
     "exception": false,
     "start_time": "2023-04-10T10:26:32.677380",
     "status": "completed"
    },
    "tags": []
   },
   "outputs": [],
   "source": [
    "j=pd.read_csv('/kaggle/input/videogamesales/vgsales.csv',usecols=['Year'], squeeze=True)"
   ]
  },
  {
   "cell_type": "code",
   "execution_count": 69,
   "id": "19f5c5c5",
   "metadata": {
    "execution": {
     "iopub.execute_input": "2023-04-10T10:26:32.804800Z",
     "iopub.status.busy": "2023-04-10T10:26:32.804142Z",
     "iopub.status.idle": "2023-04-10T10:26:32.809986Z",
     "shell.execute_reply": "2023-04-10T10:26:32.809278Z"
    },
    "papermill": {
     "duration": 0.041497,
     "end_time": "2023-04-10T10:26:32.812180",
     "exception": false,
     "start_time": "2023-04-10T10:26:32.770683",
     "status": "completed"
    },
    "tags": []
   },
   "outputs": [
    {
     "data": {
      "text/plain": [
       "16327"
      ]
     },
     "execution_count": 69,
     "metadata": {},
     "output_type": "execute_result"
    }
   ],
   "source": [
    "j.count()"
   ]
  },
  {
   "cell_type": "code",
   "execution_count": 70,
   "id": "b5ba6ded",
   "metadata": {
    "execution": {
     "iopub.execute_input": "2023-04-10T10:26:32.937654Z",
     "iopub.status.busy": "2023-04-10T10:26:32.937280Z",
     "iopub.status.idle": "2023-04-10T10:26:32.945091Z",
     "shell.execute_reply": "2023-04-10T10:26:32.944446Z"
    },
    "papermill": {
     "duration": 0.102742,
     "end_time": "2023-04-10T10:26:32.946752",
     "exception": false,
     "start_time": "2023-04-10T10:26:32.844010",
     "status": "completed"
    },
    "tags": []
   },
   "outputs": [
    {
     "data": {
      "text/plain": [
       "179     NaN\n",
       "377     NaN\n",
       "431     NaN\n",
       "470     NaN\n",
       "607     NaN\n",
       "         ..\n",
       "16307   NaN\n",
       "16327   NaN\n",
       "16366   NaN\n",
       "16427   NaN\n",
       "16493   NaN\n",
       "Name: Year, Length: 271, dtype: float64"
      ]
     },
     "execution_count": 70,
     "metadata": {},
     "output_type": "execute_result"
    }
   ],
   "source": [
    "mask=j.isna()\n",
    "j[mask]\n",
    "\n",
    "\n"
   ]
  },
  {
   "cell_type": "code",
   "execution_count": 71,
   "id": "f88bd5be",
   "metadata": {
    "execution": {
     "iopub.execute_input": "2023-04-10T10:26:33.013225Z",
     "iopub.status.busy": "2023-04-10T10:26:33.012597Z",
     "iopub.status.idle": "2023-04-10T10:26:33.020127Z",
     "shell.execute_reply": "2023-04-10T10:26:33.019238Z"
    },
    "papermill": {
     "duration": 0.042555,
     "end_time": "2023-04-10T10:26:33.021927",
     "exception": false,
     "start_time": "2023-04-10T10:26:32.979372",
     "status": "completed"
    },
    "tags": []
   },
   "outputs": [
    {
     "data": {
      "text/plain": [
       "0        2006.0\n",
       "1        1985.0\n",
       "2        2008.0\n",
       "3        2009.0\n",
       "4        1996.0\n",
       "          ...  \n",
       "16593    2002.0\n",
       "16594    2003.0\n",
       "16595    2008.0\n",
       "16596    2010.0\n",
       "16597    2003.0\n",
       "Name: Year, Length: 16327, dtype: float64"
      ]
     },
     "execution_count": 71,
     "metadata": {},
     "output_type": "execute_result"
    }
   ],
   "source": [
    "j.dropna()"
   ]
  },
  {
   "cell_type": "code",
   "execution_count": 72,
   "id": "84f17c22",
   "metadata": {
    "execution": {
     "iopub.execute_input": "2023-04-10T10:26:33.089286Z",
     "iopub.status.busy": "2023-04-10T10:26:33.088716Z",
     "iopub.status.idle": "2023-04-10T10:26:33.094336Z",
     "shell.execute_reply": "2023-04-10T10:26:33.093635Z"
    },
    "papermill": {
     "duration": 0.041307,
     "end_time": "2023-04-10T10:26:33.095990",
     "exception": false,
     "start_time": "2023-04-10T10:26:33.054683",
     "status": "completed"
    },
    "tags": []
   },
   "outputs": [
    {
     "data": {
      "text/plain": [
       "16327"
      ]
     },
     "execution_count": 72,
     "metadata": {},
     "output_type": "execute_result"
    }
   ],
   "source": [
    "j.count()"
   ]
  },
  {
   "cell_type": "code",
   "execution_count": 73,
   "id": "cd7ae9e7",
   "metadata": {
    "execution": {
     "iopub.execute_input": "2023-04-10T10:26:33.166738Z",
     "iopub.status.busy": "2023-04-10T10:26:33.165874Z",
     "iopub.status.idle": "2023-04-10T10:26:33.189939Z",
     "shell.execute_reply": "2023-04-10T10:26:33.188755Z"
    },
    "papermill": {
     "duration": 0.061855,
     "end_time": "2023-04-10T10:26:33.192103",
     "exception": false,
     "start_time": "2023-04-10T10:26:33.130248",
     "status": "completed"
    },
    "tags": []
   },
   "outputs": [
    {
     "data": {
      "text/plain": [
       "0                                              Wii Sports\n",
       "1                                       Super Mario Bros.\n",
       "2                                          Mario Kart Wii\n",
       "3                                       Wii Sports Resort\n",
       "4                                Pokemon Red/Pokemon Blue\n",
       "                               ...                       \n",
       "16593                  Woody Woodpecker in Crazy Castle 5\n",
       "16594                       Men in Black II: Alien Escape\n",
       "16595    SCORE International Baja 1000: The Official Game\n",
       "16596                                          Know How 2\n",
       "16597                                    Spirits & Spells\n",
       "Name: Name, Length: 16598, dtype: object"
      ]
     },
     "execution_count": 73,
     "metadata": {},
     "output_type": "execute_result"
    }
   ],
   "source": [
    "data=pd.read_csv('/kaggle/input/videogamesales/vgsales.csv',usecols=['Name'], squeeze=True)\n",
    "data"
   ]
  },
  {
   "cell_type": "markdown",
   "id": "353e0640",
   "metadata": {
    "papermill": {
     "duration": 0.034069,
     "end_time": "2023-04-10T10:26:33.260296",
     "exception": false,
     "start_time": "2023-04-10T10:26:33.226227",
     "status": "completed"
    },
    "tags": []
   },
   "source": [
    "**in keyword**"
   ]
  },
  {
   "cell_type": "code",
   "execution_count": 74,
   "id": "57a1cb17",
   "metadata": {
    "execution": {
     "iopub.execute_input": "2023-04-10T10:26:33.330676Z",
     "iopub.status.busy": "2023-04-10T10:26:33.330132Z",
     "iopub.status.idle": "2023-04-10T10:26:33.334999Z",
     "shell.execute_reply": "2023-04-10T10:26:33.334398Z"
    },
    "papermill": {
     "duration": 0.042697,
     "end_time": "2023-04-10T10:26:33.337412",
     "exception": false,
     "start_time": "2023-04-10T10:26:33.294715",
     "status": "completed"
    },
    "tags": []
   },
   "outputs": [
    {
     "data": {
      "text/plain": [
       "False"
      ]
     },
     "execution_count": 74,
     "metadata": {},
     "output_type": "execute_result"
    }
   ],
   "source": [
    "' Wii Sports' in data  #by default in operator searches for the index not values"
   ]
  },
  {
   "cell_type": "code",
   "execution_count": 75,
   "id": "6dff20da",
   "metadata": {
    "execution": {
     "iopub.execute_input": "2023-04-10T10:26:33.405908Z",
     "iopub.status.busy": "2023-04-10T10:26:33.405371Z",
     "iopub.status.idle": "2023-04-10T10:26:33.411863Z",
     "shell.execute_reply": "2023-04-10T10:26:33.410569Z"
    },
    "papermill": {
     "duration": 0.04376,
     "end_time": "2023-04-10T10:26:33.414705",
     "exception": false,
     "start_time": "2023-04-10T10:26:33.370945",
     "status": "completed"
    },
    "tags": []
   },
   "outputs": [
    {
     "data": {
      "text/plain": [
       "True"
      ]
     },
     "execution_count": 75,
     "metadata": {},
     "output_type": "execute_result"
    }
   ],
   "source": [
    "1 in data"
   ]
  },
  {
   "cell_type": "code",
   "execution_count": 76,
   "id": "fa1b6616",
   "metadata": {
    "execution": {
     "iopub.execute_input": "2023-04-10T10:26:33.484048Z",
     "iopub.status.busy": "2023-04-10T10:26:33.483714Z",
     "iopub.status.idle": "2023-04-10T10:26:33.491030Z",
     "shell.execute_reply": "2023-04-10T10:26:33.489758Z"
    },
    "papermill": {
     "duration": 0.045201,
     "end_time": "2023-04-10T10:26:33.493930",
     "exception": false,
     "start_time": "2023-04-10T10:26:33.448729",
     "status": "completed"
    },
    "tags": []
   },
   "outputs": [
    {
     "data": {
      "text/plain": [
       "True"
      ]
     },
     "execution_count": 76,
     "metadata": {},
     "output_type": "execute_result"
    }
   ],
   "source": [
    "'Wii Sports' in data.values"
   ]
  },
  {
   "cell_type": "markdown",
   "id": "e3fde16d",
   "metadata": {
    "papermill": {
     "duration": 0.034811,
     "end_time": "2023-04-10T10:26:33.562286",
     "exception": false,
     "start_time": "2023-04-10T10:26:33.527475",
     "status": "completed"
    },
    "tags": []
   },
   "source": [
    "**Indexing & Slicing**"
   ]
  },
  {
   "cell_type": "code",
   "execution_count": 77,
   "id": "686cb0de",
   "metadata": {
    "execution": {
     "iopub.execute_input": "2023-04-10T10:26:33.633560Z",
     "iopub.status.busy": "2023-04-10T10:26:33.633216Z",
     "iopub.status.idle": "2023-04-10T10:26:33.641190Z",
     "shell.execute_reply": "2023-04-10T10:26:33.640149Z"
    },
    "papermill": {
     "duration": 0.046362,
     "end_time": "2023-04-10T10:26:33.642982",
     "exception": false,
     "start_time": "2023-04-10T10:26:33.596620",
     "status": "completed"
    },
    "tags": []
   },
   "outputs": [
    {
     "data": {
      "text/plain": [
       "0                                              Wii Sports\n",
       "1                                       Super Mario Bros.\n",
       "2                                          Mario Kart Wii\n",
       "3                                       Wii Sports Resort\n",
       "4                                Pokemon Red/Pokemon Blue\n",
       "                               ...                       \n",
       "16593                  Woody Woodpecker in Crazy Castle 5\n",
       "16594                       Men in Black II: Alien Escape\n",
       "16595    SCORE International Baja 1000: The Official Game\n",
       "16596                                          Know How 2\n",
       "16597                                    Spirits & Spells\n",
       "Name: Name, Length: 16598, dtype: object"
      ]
     },
     "execution_count": 77,
     "metadata": {},
     "output_type": "execute_result"
    }
   ],
   "source": [
    "data"
   ]
  },
  {
   "cell_type": "code",
   "execution_count": 78,
   "id": "cc9b511e",
   "metadata": {
    "execution": {
     "iopub.execute_input": "2023-04-10T10:26:33.712926Z",
     "iopub.status.busy": "2023-04-10T10:26:33.712555Z",
     "iopub.status.idle": "2023-04-10T10:26:33.718957Z",
     "shell.execute_reply": "2023-04-10T10:26:33.717955Z"
    },
    "papermill": {
     "duration": 0.044714,
     "end_time": "2023-04-10T10:26:33.721025",
     "exception": false,
     "start_time": "2023-04-10T10:26:33.676311",
     "status": "completed"
    },
    "tags": []
   },
   "outputs": [
    {
     "data": {
      "text/plain": [
       "'Pokemon Red/Pokemon Blue'"
      ]
     },
     "execution_count": 78,
     "metadata": {},
     "output_type": "execute_result"
    }
   ],
   "source": [
    "data[4]"
   ]
  },
  {
   "cell_type": "code",
   "execution_count": 79,
   "id": "811b96a4",
   "metadata": {
    "execution": {
     "iopub.execute_input": "2023-04-10T10:26:33.792842Z",
     "iopub.status.busy": "2023-04-10T10:26:33.792494Z",
     "iopub.status.idle": "2023-04-10T10:26:33.800640Z",
     "shell.execute_reply": "2023-04-10T10:26:33.799648Z"
    },
    "papermill": {
     "duration": 0.047894,
     "end_time": "2023-04-10T10:26:33.802628",
     "exception": false,
     "start_time": "2023-04-10T10:26:33.754734",
     "status": "completed"
    },
    "tags": []
   },
   "outputs": [
    {
     "data": {
      "text/plain": [
       "0                   Wii Sports\n",
       "1            Super Mario Bros.\n",
       "2               Mario Kart Wii\n",
       "3            Wii Sports Resort\n",
       "4     Pokemon Red/Pokemon Blue\n",
       "5                       Tetris\n",
       "6        New Super Mario Bros.\n",
       "7                     Wii Play\n",
       "8    New Super Mario Bros. Wii\n",
       "9                    Duck Hunt\n",
       "Name: Name, dtype: object"
      ]
     },
     "execution_count": 79,
     "metadata": {},
     "output_type": "execute_result"
    }
   ],
   "source": [
    "data[0:10]"
   ]
  },
  {
   "cell_type": "code",
   "execution_count": 80,
   "id": "5d0c07d3",
   "metadata": {
    "execution": {
     "iopub.execute_input": "2023-04-10T10:26:33.875095Z",
     "iopub.status.busy": "2023-04-10T10:26:33.874718Z",
     "iopub.status.idle": "2023-04-10T10:26:33.882684Z",
     "shell.execute_reply": "2023-04-10T10:26:33.881277Z"
    },
    "papermill": {
     "duration": 0.047262,
     "end_time": "2023-04-10T10:26:33.884707",
     "exception": false,
     "start_time": "2023-04-10T10:26:33.837445",
     "status": "completed"
    },
    "tags": []
   },
   "outputs": [
    {
     "data": {
      "text/plain": [
       "0                        Wii Sports\n",
       "2                    Mario Kart Wii\n",
       "4          Pokemon Red/Pokemon Blue\n",
       "6             New Super Mario Bros.\n",
       "8         New Super Mario Bros. Wii\n",
       "10                       Nintendogs\n",
       "12      Pokemon Gold/Pokemon Silver\n",
       "14                     Wii Fit Plus\n",
       "16               Grand Theft Auto V\n",
       "18                Super Mario World\n",
       "20    Pokemon Diamond/Pokemon Pearl\n",
       "Name: Name, dtype: object"
      ]
     },
     "execution_count": 80,
     "metadata": {},
     "output_type": "execute_result"
    }
   ],
   "source": [
    "data[:21:2]   #start,end(not inclusive),step"
   ]
  },
  {
   "cell_type": "code",
   "execution_count": 81,
   "id": "ed3202a3",
   "metadata": {
    "execution": {
     "iopub.execute_input": "2023-04-10T10:26:33.955953Z",
     "iopub.status.busy": "2023-04-10T10:26:33.955603Z",
     "iopub.status.idle": "2023-04-10T10:26:33.961752Z",
     "shell.execute_reply": "2023-04-10T10:26:33.961154Z"
    },
    "papermill": {
     "duration": 0.044337,
     "end_time": "2023-04-10T10:26:33.963682",
     "exception": false,
     "start_time": "2023-04-10T10:26:33.919345",
     "status": "completed"
    },
    "tags": []
   },
   "outputs": [
    {
     "data": {
      "text/plain": [
       "'Spirits & Spells'"
      ]
     },
     "execution_count": 81,
     "metadata": {},
     "output_type": "execute_result"
    }
   ],
   "source": [
    "data[data.count()-1]"
   ]
  },
  {
   "cell_type": "code",
   "execution_count": 82,
   "id": "5eca312a",
   "metadata": {
    "execution": {
     "iopub.execute_input": "2023-04-10T10:26:34.033987Z",
     "iopub.status.busy": "2023-04-10T10:26:34.033664Z",
     "iopub.status.idle": "2023-04-10T10:26:34.044493Z",
     "shell.execute_reply": "2023-04-10T10:26:34.043520Z"
    },
    "papermill": {
     "duration": 0.048976,
     "end_time": "2023-04-10T10:26:34.047187",
     "exception": false,
     "start_time": "2023-04-10T10:26:33.998211",
     "status": "completed"
    },
    "tags": []
   },
   "outputs": [
    {
     "data": {
      "text/plain": [
       "3             Wii Sports Resort\n",
       "67         Call of Duty: Ghosts\n",
       "2                Mario Kart Wii\n",
       "8     New Super Mario Bros. Wii\n",
       "56          Grand Theft Auto IV\n",
       "Name: Name, dtype: object"
      ]
     },
     "execution_count": 82,
     "metadata": {},
     "output_type": "execute_result"
    }
   ],
   "source": [
    "l=[3,67,2,8,56]    #integer indexing\n",
    "data[l]"
   ]
  },
  {
   "cell_type": "code",
   "execution_count": 83,
   "id": "4d1b7c58",
   "metadata": {
    "execution": {
     "iopub.execute_input": "2023-04-10T10:26:34.118602Z",
     "iopub.status.busy": "2023-04-10T10:26:34.118258Z",
     "iopub.status.idle": "2023-04-10T10:26:34.123605Z",
     "shell.execute_reply": "2023-04-10T10:26:34.122612Z"
    },
    "papermill": {
     "duration": 0.042834,
     "end_time": "2023-04-10T10:26:34.125577",
     "exception": false,
     "start_time": "2023-04-10T10:26:34.082743",
     "status": "completed"
    },
    "tags": []
   },
   "outputs": [],
   "source": [
    "s=pd.Series([21,45,34,7,67])"
   ]
  },
  {
   "cell_type": "code",
   "execution_count": 84,
   "id": "73f58418",
   "metadata": {
    "execution": {
     "iopub.execute_input": "2023-04-10T10:26:34.198032Z",
     "iopub.status.busy": "2023-04-10T10:26:34.197706Z",
     "iopub.status.idle": "2023-04-10T10:26:34.207526Z",
     "shell.execute_reply": "2023-04-10T10:26:34.205629Z"
    },
    "papermill": {
     "duration": 0.049061,
     "end_time": "2023-04-10T10:26:34.210078",
     "exception": false,
     "start_time": "2023-04-10T10:26:34.161017",
     "status": "completed"
    },
    "tags": []
   },
   "outputs": [
    {
     "data": {
      "text/plain": [
       "0    21\n",
       "2    34\n",
       "3     7\n",
       "dtype: int64"
      ]
     },
     "execution_count": 84,
     "metadata": {},
     "output_type": "execute_result"
    }
   ],
   "source": [
    "g=[True, False,True,True,False]\n",
    "s[g]     #boolean indexing"
   ]
  },
  {
   "cell_type": "markdown",
   "id": "0e9ac0c3",
   "metadata": {
    "papermill": {
     "duration": 0.03439,
     "end_time": "2023-04-10T10:26:34.279150",
     "exception": false,
     "start_time": "2023-04-10T10:26:34.244760",
     "status": "completed"
    },
    "tags": []
   },
   "source": [
    "**Customized index**"
   ]
  },
  {
   "cell_type": "code",
   "execution_count": 85,
   "id": "8a7901dc",
   "metadata": {
    "execution": {
     "iopub.execute_input": "2023-04-10T10:26:34.350636Z",
     "iopub.status.busy": "2023-04-10T10:26:34.350283Z",
     "iopub.status.idle": "2023-04-10T10:26:34.394378Z",
     "shell.execute_reply": "2023-04-10T10:26:34.392961Z"
    },
    "papermill": {
     "duration": 0.081568,
     "end_time": "2023-04-10T10:26:34.396521",
     "exception": false,
     "start_time": "2023-04-10T10:26:34.314953",
     "status": "completed"
    },
    "tags": []
   },
   "outputs": [
    {
     "data": {
      "text/html": [
       "<div>\n",
       "<style scoped>\n",
       "    .dataframe tbody tr th:only-of-type {\n",
       "        vertical-align: middle;\n",
       "    }\n",
       "\n",
       "    .dataframe tbody tr th {\n",
       "        vertical-align: top;\n",
       "    }\n",
       "\n",
       "    .dataframe thead th {\n",
       "        text-align: right;\n",
       "    }\n",
       "</style>\n",
       "<table border=\"1\" class=\"dataframe\">\n",
       "  <thead>\n",
       "    <tr style=\"text-align: right;\">\n",
       "      <th></th>\n",
       "      <th>Rank</th>\n",
       "      <th>Name</th>\n",
       "      <th>Platform</th>\n",
       "      <th>Year</th>\n",
       "      <th>Genre</th>\n",
       "      <th>Publisher</th>\n",
       "      <th>NA_Sales</th>\n",
       "      <th>EU_Sales</th>\n",
       "      <th>JP_Sales</th>\n",
       "      <th>Other_Sales</th>\n",
       "      <th>Global_Sales</th>\n",
       "    </tr>\n",
       "  </thead>\n",
       "  <tbody>\n",
       "    <tr>\n",
       "      <th>0</th>\n",
       "      <td>1</td>\n",
       "      <td>Wii Sports</td>\n",
       "      <td>Wii</td>\n",
       "      <td>2006.0</td>\n",
       "      <td>Sports</td>\n",
       "      <td>Nintendo</td>\n",
       "      <td>41.49</td>\n",
       "      <td>29.02</td>\n",
       "      <td>3.77</td>\n",
       "      <td>8.46</td>\n",
       "      <td>82.74</td>\n",
       "    </tr>\n",
       "    <tr>\n",
       "      <th>1</th>\n",
       "      <td>2</td>\n",
       "      <td>Super Mario Bros.</td>\n",
       "      <td>NES</td>\n",
       "      <td>1985.0</td>\n",
       "      <td>Platform</td>\n",
       "      <td>Nintendo</td>\n",
       "      <td>29.08</td>\n",
       "      <td>3.58</td>\n",
       "      <td>6.81</td>\n",
       "      <td>0.77</td>\n",
       "      <td>40.24</td>\n",
       "    </tr>\n",
       "    <tr>\n",
       "      <th>2</th>\n",
       "      <td>3</td>\n",
       "      <td>Mario Kart Wii</td>\n",
       "      <td>Wii</td>\n",
       "      <td>2008.0</td>\n",
       "      <td>Racing</td>\n",
       "      <td>Nintendo</td>\n",
       "      <td>15.85</td>\n",
       "      <td>12.88</td>\n",
       "      <td>3.79</td>\n",
       "      <td>3.31</td>\n",
       "      <td>35.82</td>\n",
       "    </tr>\n",
       "    <tr>\n",
       "      <th>3</th>\n",
       "      <td>4</td>\n",
       "      <td>Wii Sports Resort</td>\n",
       "      <td>Wii</td>\n",
       "      <td>2009.0</td>\n",
       "      <td>Sports</td>\n",
       "      <td>Nintendo</td>\n",
       "      <td>15.75</td>\n",
       "      <td>11.01</td>\n",
       "      <td>3.28</td>\n",
       "      <td>2.96</td>\n",
       "      <td>33.00</td>\n",
       "    </tr>\n",
       "    <tr>\n",
       "      <th>4</th>\n",
       "      <td>5</td>\n",
       "      <td>Pokemon Red/Pokemon Blue</td>\n",
       "      <td>GB</td>\n",
       "      <td>1996.0</td>\n",
       "      <td>Role-Playing</td>\n",
       "      <td>Nintendo</td>\n",
       "      <td>11.27</td>\n",
       "      <td>8.89</td>\n",
       "      <td>10.22</td>\n",
       "      <td>1.00</td>\n",
       "      <td>31.37</td>\n",
       "    </tr>\n",
       "    <tr>\n",
       "      <th>...</th>\n",
       "      <td>...</td>\n",
       "      <td>...</td>\n",
       "      <td>...</td>\n",
       "      <td>...</td>\n",
       "      <td>...</td>\n",
       "      <td>...</td>\n",
       "      <td>...</td>\n",
       "      <td>...</td>\n",
       "      <td>...</td>\n",
       "      <td>...</td>\n",
       "      <td>...</td>\n",
       "    </tr>\n",
       "    <tr>\n",
       "      <th>16593</th>\n",
       "      <td>16596</td>\n",
       "      <td>Woody Woodpecker in Crazy Castle 5</td>\n",
       "      <td>GBA</td>\n",
       "      <td>2002.0</td>\n",
       "      <td>Platform</td>\n",
       "      <td>Kemco</td>\n",
       "      <td>0.01</td>\n",
       "      <td>0.00</td>\n",
       "      <td>0.00</td>\n",
       "      <td>0.00</td>\n",
       "      <td>0.01</td>\n",
       "    </tr>\n",
       "    <tr>\n",
       "      <th>16594</th>\n",
       "      <td>16597</td>\n",
       "      <td>Men in Black II: Alien Escape</td>\n",
       "      <td>GC</td>\n",
       "      <td>2003.0</td>\n",
       "      <td>Shooter</td>\n",
       "      <td>Infogrames</td>\n",
       "      <td>0.01</td>\n",
       "      <td>0.00</td>\n",
       "      <td>0.00</td>\n",
       "      <td>0.00</td>\n",
       "      <td>0.01</td>\n",
       "    </tr>\n",
       "    <tr>\n",
       "      <th>16595</th>\n",
       "      <td>16598</td>\n",
       "      <td>SCORE International Baja 1000: The Official Game</td>\n",
       "      <td>PS2</td>\n",
       "      <td>2008.0</td>\n",
       "      <td>Racing</td>\n",
       "      <td>Activision</td>\n",
       "      <td>0.00</td>\n",
       "      <td>0.00</td>\n",
       "      <td>0.00</td>\n",
       "      <td>0.00</td>\n",
       "      <td>0.01</td>\n",
       "    </tr>\n",
       "    <tr>\n",
       "      <th>16596</th>\n",
       "      <td>16599</td>\n",
       "      <td>Know How 2</td>\n",
       "      <td>DS</td>\n",
       "      <td>2010.0</td>\n",
       "      <td>Puzzle</td>\n",
       "      <td>7G//AMES</td>\n",
       "      <td>0.00</td>\n",
       "      <td>0.01</td>\n",
       "      <td>0.00</td>\n",
       "      <td>0.00</td>\n",
       "      <td>0.01</td>\n",
       "    </tr>\n",
       "    <tr>\n",
       "      <th>16597</th>\n",
       "      <td>16600</td>\n",
       "      <td>Spirits &amp; Spells</td>\n",
       "      <td>GBA</td>\n",
       "      <td>2003.0</td>\n",
       "      <td>Platform</td>\n",
       "      <td>Wanadoo</td>\n",
       "      <td>0.01</td>\n",
       "      <td>0.00</td>\n",
       "      <td>0.00</td>\n",
       "      <td>0.00</td>\n",
       "      <td>0.01</td>\n",
       "    </tr>\n",
       "  </tbody>\n",
       "</table>\n",
       "<p>16598 rows × 11 columns</p>\n",
       "</div>"
      ],
      "text/plain": [
       "        Rank                                              Name Platform  \\\n",
       "0          1                                        Wii Sports      Wii   \n",
       "1          2                                 Super Mario Bros.      NES   \n",
       "2          3                                    Mario Kart Wii      Wii   \n",
       "3          4                                 Wii Sports Resort      Wii   \n",
       "4          5                          Pokemon Red/Pokemon Blue       GB   \n",
       "...      ...                                               ...      ...   \n",
       "16593  16596                Woody Woodpecker in Crazy Castle 5      GBA   \n",
       "16594  16597                     Men in Black II: Alien Escape       GC   \n",
       "16595  16598  SCORE International Baja 1000: The Official Game      PS2   \n",
       "16596  16599                                        Know How 2       DS   \n",
       "16597  16600                                  Spirits & Spells      GBA   \n",
       "\n",
       "         Year         Genre   Publisher  NA_Sales  EU_Sales  JP_Sales  \\\n",
       "0      2006.0        Sports    Nintendo     41.49     29.02      3.77   \n",
       "1      1985.0      Platform    Nintendo     29.08      3.58      6.81   \n",
       "2      2008.0        Racing    Nintendo     15.85     12.88      3.79   \n",
       "3      2009.0        Sports    Nintendo     15.75     11.01      3.28   \n",
       "4      1996.0  Role-Playing    Nintendo     11.27      8.89     10.22   \n",
       "...       ...           ...         ...       ...       ...       ...   \n",
       "16593  2002.0      Platform       Kemco      0.01      0.00      0.00   \n",
       "16594  2003.0       Shooter  Infogrames      0.01      0.00      0.00   \n",
       "16595  2008.0        Racing  Activision      0.00      0.00      0.00   \n",
       "16596  2010.0        Puzzle    7G//AMES      0.00      0.01      0.00   \n",
       "16597  2003.0      Platform     Wanadoo      0.01      0.00      0.00   \n",
       "\n",
       "       Other_Sales  Global_Sales  \n",
       "0             8.46         82.74  \n",
       "1             0.77         40.24  \n",
       "2             3.31         35.82  \n",
       "3             2.96         33.00  \n",
       "4             1.00         31.37  \n",
       "...            ...           ...  \n",
       "16593         0.00          0.01  \n",
       "16594         0.00          0.01  \n",
       "16595         0.00          0.01  \n",
       "16596         0.00          0.01  \n",
       "16597         0.00          0.01  \n",
       "\n",
       "[16598 rows x 11 columns]"
      ]
     },
     "execution_count": 85,
     "metadata": {},
     "output_type": "execute_result"
    }
   ],
   "source": [
    "k=pd.read_csv('/kaggle/input/videogamesales/vgsales.csv')\n",
    "k"
   ]
  },
  {
   "cell_type": "code",
   "execution_count": 86,
   "id": "1702a462",
   "metadata": {
    "execution": {
     "iopub.execute_input": "2023-04-10T10:26:34.467151Z",
     "iopub.status.busy": "2023-04-10T10:26:34.466732Z",
     "iopub.status.idle": "2023-04-10T10:26:34.497481Z",
     "shell.execute_reply": "2023-04-10T10:26:34.496427Z"
    },
    "papermill": {
     "duration": 0.068381,
     "end_time": "2023-04-10T10:26:34.499481",
     "exception": false,
     "start_time": "2023-04-10T10:26:34.431100",
     "status": "completed"
    },
    "tags": []
   },
   "outputs": [
    {
     "data": {
      "text/plain": [
       "Name\n",
       "Wii Sports                                          82.74\n",
       "Super Mario Bros.                                   40.24\n",
       "Mario Kart Wii                                      35.82\n",
       "Wii Sports Resort                                   33.00\n",
       "Pokemon Red/Pokemon Blue                            31.37\n",
       "                                                    ...  \n",
       "Woody Woodpecker in Crazy Castle 5                   0.01\n",
       "Men in Black II: Alien Escape                        0.01\n",
       "SCORE International Baja 1000: The Official Game     0.01\n",
       "Know How 2                                           0.01\n",
       "Spirits & Spells                                     0.01\n",
       "Name: Global_Sales, Length: 16598, dtype: float64"
      ]
     },
     "execution_count": 86,
     "metadata": {},
     "output_type": "execute_result"
    }
   ],
   "source": [
    "k=pd.read_csv('/kaggle/input/videogamesales/vgsales.csv', usecols=['Name','Global_Sales'],index_col=['Name'], squeeze=True)\n",
    "k   # here Name column now works as an index"
   ]
  },
  {
   "cell_type": "code",
   "execution_count": 87,
   "id": "85bb1845",
   "metadata": {
    "execution": {
     "iopub.execute_input": "2023-04-10T10:26:34.569150Z",
     "iopub.status.busy": "2023-04-10T10:26:34.568731Z",
     "iopub.status.idle": "2023-04-10T10:26:34.579760Z",
     "shell.execute_reply": "2023-04-10T10:26:34.578515Z"
    },
    "papermill": {
     "duration": 0.048198,
     "end_time": "2023-04-10T10:26:34.581840",
     "exception": false,
     "start_time": "2023-04-10T10:26:34.533642",
     "status": "completed"
    },
    "tags": []
   },
   "outputs": [
    {
     "data": {
      "text/plain": [
       "Name\n",
       "Wii Sports                  82.74\n",
       "Super Mario Bros.           40.24\n",
       "Mario Kart Wii              35.82\n",
       "Wii Sports Resort           33.00\n",
       "Pokemon Red/Pokemon Blue    31.37\n",
       "Name: Global_Sales, dtype: float64"
      ]
     },
     "execution_count": 87,
     "metadata": {},
     "output_type": "execute_result"
    }
   ],
   "source": [
    "k['Wii Sports':'Pokemon Red/Pokemon Blue']    #here we can observe that last index is inclusive"
   ]
  },
  {
   "cell_type": "code",
   "execution_count": 88,
   "id": "0f2d5784",
   "metadata": {
    "execution": {
     "iopub.execute_input": "2023-04-10T10:26:34.652292Z",
     "iopub.status.busy": "2023-04-10T10:26:34.651926Z",
     "iopub.status.idle": "2023-04-10T10:26:34.661382Z",
     "shell.execute_reply": "2023-04-10T10:26:34.660089Z"
    },
    "papermill": {
     "duration": 0.047118,
     "end_time": "2023-04-10T10:26:34.663308",
     "exception": false,
     "start_time": "2023-04-10T10:26:34.616190",
     "status": "completed"
    },
    "tags": []
   },
   "outputs": [
    {
     "data": {
      "text/plain": [
       "Name\n",
       "Wii Sports    82.74\n",
       "Know How 2     0.01\n",
       "Name: Global_Sales, dtype: float64"
      ]
     },
     "execution_count": 88,
     "metadata": {},
     "output_type": "execute_result"
    }
   ],
   "source": [
    "k[['Wii Sports','Know How 2']]    # similar like integer indexing"
   ]
  },
  {
   "cell_type": "code",
   "execution_count": 89,
   "id": "ca485e4f",
   "metadata": {
    "execution": {
     "iopub.execute_input": "2023-04-10T10:26:34.735456Z",
     "iopub.status.busy": "2023-04-10T10:26:34.734675Z",
     "iopub.status.idle": "2023-04-10T10:26:34.743916Z",
     "shell.execute_reply": "2023-04-10T10:26:34.742617Z"
    },
    "papermill": {
     "duration": 0.04957,
     "end_time": "2023-04-10T10:26:34.747238",
     "exception": false,
     "start_time": "2023-04-10T10:26:34.697668",
     "status": "completed"
    },
    "tags": []
   },
   "outputs": [
    {
     "data": {
      "text/plain": [
       "A    23\n",
       "B    45\n",
       "C     2\n",
       "D    34\n",
       "dtype: int64"
      ]
     },
     "execution_count": 89,
     "metadata": {},
     "output_type": "execute_result"
    }
   ],
   "source": [
    "#reindex , if value is duplicate it will throw error else it returns Nan\n",
    "\n",
    "l=pd.Series([23,45,2,34], index=['A','B','C','D'])\n",
    "l"
   ]
  },
  {
   "cell_type": "code",
   "execution_count": 90,
   "id": "9e1139f5",
   "metadata": {
    "execution": {
     "iopub.execute_input": "2023-04-10T10:26:34.818960Z",
     "iopub.status.busy": "2023-04-10T10:26:34.818635Z",
     "iopub.status.idle": "2023-04-10T10:26:34.826905Z",
     "shell.execute_reply": "2023-04-10T10:26:34.826045Z"
    },
    "papermill": {
     "duration": 0.046464,
     "end_time": "2023-04-10T10:26:34.829265",
     "exception": false,
     "start_time": "2023-04-10T10:26:34.782801",
     "status": "completed"
    },
    "tags": []
   },
   "outputs": [
    {
     "data": {
      "text/plain": [
       "A    23.0\n",
       "E     NaN\n",
       "dtype: float64"
      ]
     },
     "execution_count": 90,
     "metadata": {},
     "output_type": "execute_result"
    }
   ],
   "source": [
    "l.reindex(index=['A','E'])"
   ]
  },
  {
   "cell_type": "markdown",
   "id": "ceabaab5",
   "metadata": {
    "papermill": {
     "duration": 0.035023,
     "end_time": "2023-04-10T10:26:34.900042",
     "exception": false,
     "start_time": "2023-04-10T10:26:34.865019",
     "status": "completed"
    },
    "tags": []
   },
   "source": [
    "**get method**"
   ]
  },
  {
   "cell_type": "code",
   "execution_count": 91,
   "id": "ec4f47de",
   "metadata": {
    "execution": {
     "iopub.execute_input": "2023-04-10T10:26:34.972617Z",
     "iopub.status.busy": "2023-04-10T10:26:34.971719Z",
     "iopub.status.idle": "2023-04-10T10:26:34.979799Z",
     "shell.execute_reply": "2023-04-10T10:26:34.978621Z"
    },
    "papermill": {
     "duration": 0.046571,
     "end_time": "2023-04-10T10:26:34.981742",
     "exception": false,
     "start_time": "2023-04-10T10:26:34.935171",
     "status": "completed"
    },
    "tags": []
   },
   "outputs": [
    {
     "data": {
      "text/plain": [
       "Name\n",
       "Wii Sports                                          82.74\n",
       "Super Mario Bros.                                   40.24\n",
       "Mario Kart Wii                                      35.82\n",
       "Wii Sports Resort                                   33.00\n",
       "Pokemon Red/Pokemon Blue                            31.37\n",
       "                                                    ...  \n",
       "Woody Woodpecker in Crazy Castle 5                   0.01\n",
       "Men in Black II: Alien Escape                        0.01\n",
       "SCORE International Baja 1000: The Official Game     0.01\n",
       "Know How 2                                           0.01\n",
       "Spirits & Spells                                     0.01\n",
       "Name: Global_Sales, Length: 16598, dtype: float64"
      ]
     },
     "execution_count": 91,
     "metadata": {},
     "output_type": "execute_result"
    }
   ],
   "source": [
    "k"
   ]
  },
  {
   "cell_type": "code",
   "execution_count": 92,
   "id": "6b59dee2",
   "metadata": {
    "execution": {
     "iopub.execute_input": "2023-04-10T10:26:35.054184Z",
     "iopub.status.busy": "2023-04-10T10:26:35.053540Z",
     "iopub.status.idle": "2023-04-10T10:26:35.059622Z",
     "shell.execute_reply": "2023-04-10T10:26:35.058749Z"
    },
    "papermill": {
     "duration": 0.044219,
     "end_time": "2023-04-10T10:26:35.061380",
     "exception": false,
     "start_time": "2023-04-10T10:26:35.017161",
     "status": "completed"
    },
    "tags": []
   },
   "outputs": [
    {
     "data": {
      "text/plain": [
       "82.74"
      ]
     },
     "execution_count": 92,
     "metadata": {},
     "output_type": "execute_result"
    }
   ],
   "source": [
    "#get method return None when we fetch somthing which doesn't exist in series, it avoids to hault the program\n",
    "\n",
    "k.get('Wii Sports','Contra')"
   ]
  },
  {
   "cell_type": "code",
   "execution_count": 93,
   "id": "47a46b6a",
   "metadata": {
    "execution": {
     "iopub.execute_input": "2023-04-10T10:26:35.132450Z",
     "iopub.status.busy": "2023-04-10T10:26:35.132085Z",
     "iopub.status.idle": "2023-04-10T10:26:35.138349Z",
     "shell.execute_reply": "2023-04-10T10:26:35.137082Z"
    },
    "papermill": {
     "duration": 0.044142,
     "end_time": "2023-04-10T10:26:35.140315",
     "exception": false,
     "start_time": "2023-04-10T10:26:35.096173",
     "status": "completed"
    },
    "tags": []
   },
   "outputs": [
    {
     "name": "stdout",
     "output_type": "stream",
     "text": [
      "None\n"
     ]
    }
   ],
   "source": [
    "print(k.get('Contra'))"
   ]
  },
  {
   "cell_type": "markdown",
   "id": "e2fec800",
   "metadata": {
    "papermill": {
     "duration": 0.03498,
     "end_time": "2023-04-10T10:26:35.212037",
     "exception": false,
     "start_time": "2023-04-10T10:26:35.177057",
     "status": "completed"
    },
    "tags": []
   },
   "source": [
    "**value_countsmethod - it contains the count of unique value*"
   ]
  },
  {
   "cell_type": "code",
   "execution_count": 94,
   "id": "d45b2f96",
   "metadata": {
    "execution": {
     "iopub.execute_input": "2023-04-10T10:26:35.284884Z",
     "iopub.status.busy": "2023-04-10T10:26:35.284546Z",
     "iopub.status.idle": "2023-04-10T10:26:35.309022Z",
     "shell.execute_reply": "2023-04-10T10:26:35.307885Z"
    },
    "papermill": {
     "duration": 0.063932,
     "end_time": "2023-04-10T10:26:35.311562",
     "exception": false,
     "start_time": "2023-04-10T10:26:35.247630",
     "status": "completed"
    },
    "tags": []
   },
   "outputs": [
    {
     "data": {
      "text/plain": [
       "0              Sports\n",
       "1            Platform\n",
       "2              Racing\n",
       "3              Sports\n",
       "4        Role-Playing\n",
       "             ...     \n",
       "16593        Platform\n",
       "16594         Shooter\n",
       "16595          Racing\n",
       "16596          Puzzle\n",
       "16597        Platform\n",
       "Name: Genre, Length: 16598, dtype: object"
      ]
     },
     "execution_count": 94,
     "metadata": {},
     "output_type": "execute_result"
    }
   ],
   "source": [
    "n=pd.read_csv('/kaggle/input/videogamesales/vgsales.csv', usecols=['Genre'], squeeze=True)\n",
    "n"
   ]
  },
  {
   "cell_type": "code",
   "execution_count": 95,
   "id": "d504e1d2",
   "metadata": {
    "execution": {
     "iopub.execute_input": "2023-04-10T10:26:35.384768Z",
     "iopub.status.busy": "2023-04-10T10:26:35.384168Z",
     "iopub.status.idle": "2023-04-10T10:26:35.391173Z",
     "shell.execute_reply": "2023-04-10T10:26:35.390511Z"
    },
    "papermill": {
     "duration": 0.045709,
     "end_time": "2023-04-10T10:26:35.393481",
     "exception": false,
     "start_time": "2023-04-10T10:26:35.347772",
     "status": "completed"
    },
    "tags": []
   },
   "outputs": [
    {
     "data": {
      "text/plain": [
       "Action          3316\n",
       "Sports          2346\n",
       "Misc            1739\n",
       "Role-Playing    1488\n",
       "Shooter         1310\n",
       "Adventure       1286\n",
       "Racing          1249\n",
       "Platform         886\n",
       "Simulation       867\n",
       "Fighting         848\n",
       "Strategy         681\n",
       "Puzzle           582\n",
       "Name: Genre, dtype: int64"
      ]
     },
     "execution_count": 95,
     "metadata": {},
     "output_type": "execute_result"
    }
   ],
   "source": [
    "n.value_counts()"
   ]
  },
  {
   "cell_type": "code",
   "execution_count": 96,
   "id": "0a8de637",
   "metadata": {
    "execution": {
     "iopub.execute_input": "2023-04-10T10:26:35.467783Z",
     "iopub.status.busy": "2023-04-10T10:26:35.467187Z",
     "iopub.status.idle": "2023-04-10T10:26:35.474126Z",
     "shell.execute_reply": "2023-04-10T10:26:35.473488Z"
    },
    "papermill": {
     "duration": 0.045856,
     "end_time": "2023-04-10T10:26:35.475824",
     "exception": false,
     "start_time": "2023-04-10T10:26:35.429968",
     "status": "completed"
    },
    "tags": []
   },
   "outputs": [
    {
     "data": {
      "text/plain": [
       "Action          3316\n",
       "Sports          2346\n",
       "Misc            1739\n",
       "Role-Playing    1488\n",
       "Shooter         1310\n",
       "Name: Genre, dtype: int64"
      ]
     },
     "execution_count": 96,
     "metadata": {},
     "output_type": "execute_result"
    }
   ],
   "source": [
    "n.value_counts().head()"
   ]
  },
  {
   "cell_type": "markdown",
   "id": "e7213af4",
   "metadata": {
    "papermill": {
     "duration": 0.037305,
     "end_time": "2023-04-10T10:26:35.550678",
     "exception": false,
     "start_time": "2023-04-10T10:26:35.513373",
     "status": "completed"
    },
    "tags": []
   },
   "source": [
    "**apply() method- it applies function on value of series**"
   ]
  },
  {
   "cell_type": "code",
   "execution_count": 97,
   "id": "af4653bc",
   "metadata": {
    "execution": {
     "iopub.execute_input": "2023-04-10T10:26:35.625733Z",
     "iopub.status.busy": "2023-04-10T10:26:35.625132Z",
     "iopub.status.idle": "2023-04-10T10:26:35.647024Z",
     "shell.execute_reply": "2023-04-10T10:26:35.646136Z"
    },
    "papermill": {
     "duration": 0.061266,
     "end_time": "2023-04-10T10:26:35.648767",
     "exception": false,
     "start_time": "2023-04-10T10:26:35.587501",
     "status": "completed"
    },
    "tags": []
   },
   "outputs": [
    {
     "data": {
      "text/plain": [
       "0        82.74\n",
       "1        40.24\n",
       "2        35.82\n",
       "3        33.00\n",
       "4        31.37\n",
       "         ...  \n",
       "16593     0.01\n",
       "16594     0.01\n",
       "16595     0.01\n",
       "16596     0.01\n",
       "16597     0.01\n",
       "Name: Global_Sales, Length: 16598, dtype: float64"
      ]
     },
     "execution_count": 97,
     "metadata": {},
     "output_type": "execute_result"
    }
   ],
   "source": [
    "c=pd.read_csv('/kaggle/input/videogamesales/vgsales.csv', usecols=['Global_Sales'], squeeze=True)\n",
    "c"
   ]
  },
  {
   "cell_type": "code",
   "execution_count": 98,
   "id": "0bee71b0",
   "metadata": {
    "execution": {
     "iopub.execute_input": "2023-04-10T10:26:35.723207Z",
     "iopub.status.busy": "2023-04-10T10:26:35.722565Z",
     "iopub.status.idle": "2023-04-10T10:26:35.726769Z",
     "shell.execute_reply": "2023-04-10T10:26:35.726125Z"
    },
    "papermill": {
     "duration": 0.043859,
     "end_time": "2023-04-10T10:26:35.729171",
     "exception": false,
     "start_time": "2023-04-10T10:26:35.685312",
     "status": "completed"
    },
    "tags": []
   },
   "outputs": [],
   "source": [
    "def category(num):\n",
    "    if num>=60:\n",
    "        return 'Super-Hit'\n",
    "    elif num>=20:\n",
    "        return 'Average'\n",
    "    else:\n",
    "        return 'Below average'"
   ]
  },
  {
   "cell_type": "code",
   "execution_count": 99,
   "id": "f6851d87",
   "metadata": {
    "execution": {
     "iopub.execute_input": "2023-04-10T10:26:35.803620Z",
     "iopub.status.busy": "2023-04-10T10:26:35.802991Z",
     "iopub.status.idle": "2023-04-10T10:26:35.810989Z",
     "shell.execute_reply": "2023-04-10T10:26:35.810328Z"
    },
    "papermill": {
     "duration": 0.047967,
     "end_time": "2023-04-10T10:26:35.813635",
     "exception": false,
     "start_time": "2023-04-10T10:26:35.765668",
     "status": "completed"
    },
    "tags": []
   },
   "outputs": [],
   "source": [
    "b=c.apply(category)\n"
   ]
  },
  {
   "cell_type": "code",
   "execution_count": 100,
   "id": "7d183d49",
   "metadata": {
    "execution": {
     "iopub.execute_input": "2023-04-10T10:26:35.888691Z",
     "iopub.status.busy": "2023-04-10T10:26:35.888347Z",
     "iopub.status.idle": "2023-04-10T10:26:35.897295Z",
     "shell.execute_reply": "2023-04-10T10:26:35.896035Z"
    },
    "papermill": {
     "duration": 0.049903,
     "end_time": "2023-04-10T10:26:35.900187",
     "exception": false,
     "start_time": "2023-04-10T10:26:35.850284",
     "status": "completed"
    },
    "tags": []
   },
   "outputs": [
    {
     "data": {
      "text/plain": [
       "Super-Hit            1\n",
       "Average             19\n",
       "Below average    16578\n",
       "Name: Global_Sales, dtype: int64"
      ]
     },
     "execution_count": 100,
     "metadata": {},
     "output_type": "execute_result"
    }
   ],
   "source": [
    "b.value_counts(ascending=True)"
   ]
  },
  {
   "cell_type": "code",
   "execution_count": 101,
   "id": "eb8e11dd",
   "metadata": {
    "execution": {
     "iopub.execute_input": "2023-04-10T10:26:35.975612Z",
     "iopub.status.busy": "2023-04-10T10:26:35.975218Z",
     "iopub.status.idle": "2023-04-10T10:26:35.988824Z",
     "shell.execute_reply": "2023-04-10T10:26:35.987584Z"
    },
    "papermill": {
     "duration": 0.054617,
     "end_time": "2023-04-10T10:26:35.991474",
     "exception": false,
     "start_time": "2023-04-10T10:26:35.936857",
     "status": "completed"
    },
    "tags": []
   },
   "outputs": [
    {
     "data": {
      "text/plain": [
       "0        165.48\n",
       "1         80.48\n",
       "2         71.64\n",
       "3         66.00\n",
       "4         62.74\n",
       "          ...  \n",
       "16593      0.02\n",
       "16594      0.02\n",
       "16595      0.02\n",
       "16596      0.02\n",
       "16597      0.02\n",
       "Name: Global_Sales, Length: 16598, dtype: float64"
      ]
     },
     "execution_count": 101,
     "metadata": {},
     "output_type": "execute_result"
    }
   ],
   "source": [
    "c.apply(lambda x: x*2)\n"
   ]
  },
  {
   "cell_type": "markdown",
   "id": "2c2ddd0e",
   "metadata": {
    "papermill": {
     "duration": 0.036077,
     "end_time": "2023-04-10T10:26:36.065627",
     "exception": false,
     "start_time": "2023-04-10T10:26:36.029550",
     "status": "completed"
    },
    "tags": []
   },
   "source": [
    "**map function**"
   ]
  },
  {
   "cell_type": "code",
   "execution_count": 102,
   "id": "72207298",
   "metadata": {
    "execution": {
     "iopub.execute_input": "2023-04-10T10:26:36.140111Z",
     "iopub.status.busy": "2023-04-10T10:26:36.139702Z",
     "iopub.status.idle": "2023-04-10T10:26:36.147838Z",
     "shell.execute_reply": "2023-04-10T10:26:36.146695Z"
    },
    "papermill": {
     "duration": 0.047316,
     "end_time": "2023-04-10T10:26:36.149811",
     "exception": false,
     "start_time": "2023-04-10T10:26:36.102495",
     "status": "completed"
    },
    "tags": []
   },
   "outputs": [
    {
     "data": {
      "text/plain": [
       "West        Mumbai\n",
       "North        Delhi\n",
       "South    Bengaluru\n",
       "dtype: object"
      ]
     },
     "execution_count": 102,
     "metadata": {},
     "output_type": "execute_result"
    }
   ],
   "source": [
    "z=pd.Series(['Mumbai','Delhi','Bengaluru'],index=['West','North','South'])\n",
    "z"
   ]
  },
  {
   "cell_type": "code",
   "execution_count": 103,
   "id": "fea93b13",
   "metadata": {
    "execution": {
     "iopub.execute_input": "2023-04-10T10:26:36.225489Z",
     "iopub.status.busy": "2023-04-10T10:26:36.225141Z",
     "iopub.status.idle": "2023-04-10T10:26:36.233612Z",
     "shell.execute_reply": "2023-04-10T10:26:36.232473Z"
    },
    "papermill": {
     "duration": 0.049421,
     "end_time": "2023-04-10T10:26:36.236353",
     "exception": false,
     "start_time": "2023-04-10T10:26:36.186932",
     "status": "completed"
    },
    "tags": []
   },
   "outputs": [
    {
     "data": {
      "text/plain": [
       "Mumbai                Pohe\n",
       "Delhi        chholebhature\n",
       "Bengaluru          biryani\n",
       "dtype: object"
      ]
     },
     "execution_count": 103,
     "metadata": {},
     "output_type": "execute_result"
    }
   ],
   "source": [
    "y=pd.Series(['Pohe','chholebhature','biryani'],index=['Mumbai','Delhi','Bengaluru'])\n",
    "y"
   ]
  },
  {
   "cell_type": "code",
   "execution_count": 104,
   "id": "ccb331ef",
   "metadata": {
    "execution": {
     "iopub.execute_input": "2023-04-10T10:26:36.313425Z",
     "iopub.status.busy": "2023-04-10T10:26:36.313105Z",
     "iopub.status.idle": "2023-04-10T10:26:36.320014Z",
     "shell.execute_reply": "2023-04-10T10:26:36.319392Z"
    },
    "papermill": {
     "duration": 0.047881,
     "end_time": "2023-04-10T10:26:36.321828",
     "exception": false,
     "start_time": "2023-04-10T10:26:36.273947",
     "status": "completed"
    },
    "tags": []
   },
   "outputs": [
    {
     "data": {
      "text/plain": [
       "West              Pohe\n",
       "North    chholebhature\n",
       "South          biryani\n",
       "dtype: object"
      ]
     },
     "execution_count": 104,
     "metadata": {},
     "output_type": "execute_result"
    }
   ],
   "source": [
    "z.map(y)"
   ]
  },
  {
   "cell_type": "markdown",
   "id": "4788f2d1",
   "metadata": {
    "papermill": {
     "duration": 0.035973,
     "end_time": "2023-04-10T10:26:36.394325",
     "exception": false,
     "start_time": "2023-04-10T10:26:36.358352",
     "status": "completed"
    },
    "tags": []
   },
   "source": [
    "**Exercise**"
   ]
  },
  {
   "cell_type": "code",
   "execution_count": 105,
   "id": "03699c62",
   "metadata": {
    "execution": {
     "iopub.execute_input": "2023-04-10T10:26:36.467241Z",
     "iopub.status.busy": "2023-04-10T10:26:36.466847Z",
     "iopub.status.idle": "2023-04-10T10:26:36.475577Z",
     "shell.execute_reply": "2023-04-10T10:26:36.473945Z"
    },
    "papermill": {
     "duration": 0.047989,
     "end_time": "2023-04-10T10:26:36.477958",
     "exception": false,
     "start_time": "2023-04-10T10:26:36.429969",
     "status": "completed"
    },
    "tags": []
   },
   "outputs": [
    {
     "data": {
      "text/plain": [
       "0     1\n",
       "1    23\n",
       "2    43\n",
       "3    67\n",
       "dtype: int64"
      ]
     },
     "execution_count": 105,
     "metadata": {},
     "output_type": "execute_result"
    }
   ],
   "source": [
    "#create panda  one dimensional series\n",
    "ast= pd.Series([1,23,43,67])\n",
    "ast"
   ]
  },
  {
   "cell_type": "code",
   "execution_count": 106,
   "id": "dac89d1c",
   "metadata": {
    "execution": {
     "iopub.execute_input": "2023-04-10T10:26:36.554716Z",
     "iopub.status.busy": "2023-04-10T10:26:36.554367Z",
     "iopub.status.idle": "2023-04-10T10:26:36.560759Z",
     "shell.execute_reply": "2023-04-10T10:26:36.559550Z"
    },
    "papermill": {
     "duration": 0.048053,
     "end_time": "2023-04-10T10:26:36.563377",
     "exception": false,
     "start_time": "2023-04-10T10:26:36.515324",
     "status": "completed"
    },
    "tags": []
   },
   "outputs": [
    {
     "data": {
      "text/plain": [
       "[1, 23, 43, 67]"
      ]
     },
     "execution_count": 106,
     "metadata": {},
     "output_type": "execute_result"
    }
   ],
   "source": [
    "#convert panda series to python list\n",
    "gd=list(ast)\n",
    "gd\n"
   ]
  },
  {
   "cell_type": "code",
   "execution_count": 107,
   "id": "fe03ba4c",
   "metadata": {
    "execution": {
     "iopub.execute_input": "2023-04-10T10:26:36.638440Z",
     "iopub.status.busy": "2023-04-10T10:26:36.638125Z",
     "iopub.status.idle": "2023-04-10T10:26:36.644600Z",
     "shell.execute_reply": "2023-04-10T10:26:36.643285Z"
    },
    "papermill": {
     "duration": 0.046658,
     "end_time": "2023-04-10T10:26:36.647026",
     "exception": false,
     "start_time": "2023-04-10T10:26:36.600368",
     "status": "completed"
    },
    "tags": []
   },
   "outputs": [
    {
     "data": {
      "text/plain": [
       "list"
      ]
     },
     "execution_count": 107,
     "metadata": {},
     "output_type": "execute_result"
    }
   ],
   "source": [
    "type(gd)"
   ]
  },
  {
   "cell_type": "code",
   "execution_count": 108,
   "id": "32eca88d",
   "metadata": {
    "execution": {
     "iopub.execute_input": "2023-04-10T10:26:36.722360Z",
     "iopub.status.busy": "2023-04-10T10:26:36.722004Z",
     "iopub.status.idle": "2023-04-10T10:26:36.730977Z",
     "shell.execute_reply": "2023-04-10T10:26:36.729939Z"
    },
    "papermill": {
     "duration": 0.049042,
     "end_time": "2023-04-10T10:26:36.733024",
     "exception": false,
     "start_time": "2023-04-10T10:26:36.683982",
     "status": "completed"
    },
    "tags": []
   },
   "outputs": [
    {
     "data": {
      "text/plain": [
       "0     35\n",
       "1     75\n",
       "2    145\n",
       "3     99\n",
       "dtype: int64"
      ]
     },
     "execution_count": 108,
     "metadata": {},
     "output_type": "execute_result"
    }
   ],
   "source": [
    "#program to subtract,add,multiply and divide two panda series\n",
    "a=pd.Series([12,32,67,54])\n",
    "b=pd.Series([23,43,78,45])\n",
    "\n",
    "#addition\n",
    "c=a+b\n",
    "c\n",
    "\n"
   ]
  },
  {
   "cell_type": "code",
   "execution_count": 109,
   "id": "34cf0f5b",
   "metadata": {
    "execution": {
     "iopub.execute_input": "2023-04-10T10:26:36.806667Z",
     "iopub.status.busy": "2023-04-10T10:26:36.806350Z",
     "iopub.status.idle": "2023-04-10T10:26:36.813584Z",
     "shell.execute_reply": "2023-04-10T10:26:36.812385Z"
    },
    "papermill": {
     "duration": 0.046397,
     "end_time": "2023-04-10T10:26:36.815369",
     "exception": false,
     "start_time": "2023-04-10T10:26:36.768972",
     "status": "completed"
    },
    "tags": []
   },
   "outputs": [
    {
     "data": {
      "text/plain": [
       "0   -11\n",
       "1   -11\n",
       "2   -11\n",
       "3     9\n",
       "dtype: int64"
      ]
     },
     "execution_count": 109,
     "metadata": {},
     "output_type": "execute_result"
    }
   ],
   "source": [
    "#subtraction\n",
    "d=a-b\n",
    "d"
   ]
  },
  {
   "cell_type": "code",
   "execution_count": 110,
   "id": "970a8d59",
   "metadata": {
    "execution": {
     "iopub.execute_input": "2023-04-10T10:26:36.889475Z",
     "iopub.status.busy": "2023-04-10T10:26:36.889115Z",
     "iopub.status.idle": "2023-04-10T10:26:36.897580Z",
     "shell.execute_reply": "2023-04-10T10:26:36.896466Z"
    },
    "papermill": {
     "duration": 0.047469,
     "end_time": "2023-04-10T10:26:36.899499",
     "exception": false,
     "start_time": "2023-04-10T10:26:36.852030",
     "status": "completed"
    },
    "tags": []
   },
   "outputs": [
    {
     "data": {
      "text/plain": [
       "0     276\n",
       "1    1376\n",
       "2    5226\n",
       "3    2430\n",
       "dtype: int64"
      ]
     },
     "execution_count": 110,
     "metadata": {},
     "output_type": "execute_result"
    }
   ],
   "source": [
    "#multiplication\n",
    "e=a*b\n",
    "e"
   ]
  },
  {
   "cell_type": "code",
   "execution_count": 111,
   "id": "9ec786fa",
   "metadata": {
    "execution": {
     "iopub.execute_input": "2023-04-10T10:26:36.977996Z",
     "iopub.status.busy": "2023-04-10T10:26:36.977632Z",
     "iopub.status.idle": "2023-04-10T10:26:36.985969Z",
     "shell.execute_reply": "2023-04-10T10:26:36.984957Z"
    },
    "papermill": {
     "duration": 0.049657,
     "end_time": "2023-04-10T10:26:36.987888",
     "exception": false,
     "start_time": "2023-04-10T10:26:36.938231",
     "status": "completed"
    },
    "tags": []
   },
   "outputs": [
    {
     "data": {
      "text/plain": [
       "0    0.521739\n",
       "1    0.744186\n",
       "2    0.858974\n",
       "3    1.200000\n",
       "dtype: float64"
      ]
     },
     "execution_count": 111,
     "metadata": {},
     "output_type": "execute_result"
    }
   ],
   "source": [
    "#divide\n",
    "f=a/b\n",
    "f"
   ]
  },
  {
   "cell_type": "code",
   "execution_count": 112,
   "id": "a6aa097f",
   "metadata": {
    "execution": {
     "iopub.execute_input": "2023-04-10T10:26:37.064616Z",
     "iopub.status.busy": "2023-04-10T10:26:37.064168Z",
     "iopub.status.idle": "2023-04-10T10:26:37.073486Z",
     "shell.execute_reply": "2023-04-10T10:26:37.072555Z"
    },
    "papermill": {
     "duration": 0.050257,
     "end_time": "2023-04-10T10:26:37.075443",
     "exception": false,
     "start_time": "2023-04-10T10:26:37.025186",
     "status": "completed"
    },
    "tags": []
   },
   "outputs": [
    {
     "data": {
      "text/plain": [
       "0    False\n",
       "1    False\n",
       "2    False\n",
       "3    False\n",
       "4     True\n",
       "dtype: bool"
      ]
     },
     "execution_count": 112,
     "metadata": {},
     "output_type": "execute_result"
    }
   ],
   "source": [
    "#compare elements\n",
    "qa= pd.Series([2, 4, 6, 8, 10])\n",
    "qb=pd.Series([1, 3, 5, 7, 10])\n",
    "\n",
    "mask=(qa==qb)\n",
    "mask\n"
   ]
  },
  {
   "cell_type": "code",
   "execution_count": 113,
   "id": "d505b9b8",
   "metadata": {
    "execution": {
     "iopub.execute_input": "2023-04-10T10:26:37.153796Z",
     "iopub.status.busy": "2023-04-10T10:26:37.152719Z",
     "iopub.status.idle": "2023-04-10T10:26:37.161332Z",
     "shell.execute_reply": "2023-04-10T10:26:37.159996Z"
    },
    "papermill": {
     "duration": 0.051269,
     "end_time": "2023-04-10T10:26:37.164095",
     "exception": false,
     "start_time": "2023-04-10T10:26:37.112826",
     "status": "completed"
    },
    "tags": []
   },
   "outputs": [
    {
     "data": {
      "text/plain": [
       "a    100\n",
       "b    200\n",
       "c    300\n",
       "d    400\n",
       "e    800\n",
       "dtype: int64"
      ]
     },
     "execution_count": 113,
     "metadata": {},
     "output_type": "execute_result"
    }
   ],
   "source": [
    "#convert dictionary to pandas series\n",
    "dict1={'a': 100, 'b': 200, 'c': 300, 'd': 400, 'e': 800}\n",
    "s=pd.Series(dict1)\n",
    "s\n"
   ]
  },
  {
   "cell_type": "code",
   "execution_count": 114,
   "id": "e48647db",
   "metadata": {
    "execution": {
     "iopub.execute_input": "2023-04-10T10:26:37.242403Z",
     "iopub.status.busy": "2023-04-10T10:26:37.241953Z",
     "iopub.status.idle": "2023-04-10T10:26:37.248990Z",
     "shell.execute_reply": "2023-04-10T10:26:37.248361Z"
    },
    "papermill": {
     "duration": 0.048575,
     "end_time": "2023-04-10T10:26:37.250831",
     "exception": false,
     "start_time": "2023-04-10T10:26:37.202256",
     "status": "completed"
    },
    "tags": []
   },
   "outputs": [
    {
     "data": {
      "text/plain": [
       "0    10\n",
       "1    20\n",
       "2    30\n",
       "3    40\n",
       "4    50\n",
       "dtype: int64"
      ]
     },
     "execution_count": 114,
     "metadata": {},
     "output_type": "execute_result"
    }
   ],
   "source": [
    "#convert numpy array to pandas series\n",
    "d=np.array([10, 20, 30, 40, 50])\n",
    "g=pd.Series(d)\n",
    "g"
   ]
  },
  {
   "cell_type": "code",
   "execution_count": 115,
   "id": "e5a120c9",
   "metadata": {
    "execution": {
     "iopub.execute_input": "2023-04-10T10:26:37.330192Z",
     "iopub.status.busy": "2023-04-10T10:26:37.329218Z",
     "iopub.status.idle": "2023-04-10T10:26:37.336924Z",
     "shell.execute_reply": "2023-04-10T10:26:37.336051Z"
    },
    "papermill": {
     "duration": 0.050423,
     "end_time": "2023-04-10T10:26:37.339360",
     "exception": false,
     "start_time": "2023-04-10T10:26:37.288937",
     "status": "completed"
    },
    "tags": []
   },
   "outputs": [
    {
     "data": {
      "text/plain": [
       "0    100.00\n",
       "1    200.00\n",
       "2       NaN\n",
       "3    300.12\n",
       "4    400.00\n",
       "dtype: float64"
      ]
     },
     "execution_count": 115,
     "metadata": {},
     "output_type": "execute_result"
    }
   ],
   "source": [
    "#change the data type of given series\n",
    "s1 = pd.Series(['100', '200', 'python', '300.12', '400'])\n",
    "df=pd.to_numeric(s1, errors='coerce')   # to_numeric() tries to convert every element in numeric and if it fails to convert it returns NAN\n",
    "df"
   ]
  },
  {
   "cell_type": "code",
   "execution_count": 116,
   "id": "9cda4630",
   "metadata": {
    "execution": {
     "iopub.execute_input": "2023-04-10T10:26:37.417018Z",
     "iopub.status.busy": "2023-04-10T10:26:37.416657Z",
     "iopub.status.idle": "2023-04-10T10:26:37.424575Z",
     "shell.execute_reply": "2023-04-10T10:26:37.423150Z"
    },
    "papermill": {
     "duration": 0.049198,
     "end_time": "2023-04-10T10:26:37.426587",
     "exception": false,
     "start_time": "2023-04-10T10:26:37.377389",
     "status": "completed"
    },
    "tags": []
   },
   "outputs": [
    {
     "data": {
      "text/plain": [
       "array(['100', '200', 'python', '300.12', '400'], dtype=object)"
      ]
     },
     "execution_count": 116,
     "metadata": {},
     "output_type": "execute_result"
    }
   ],
   "source": [
    "#convert series to numpy array\n",
    "s1 = pd.Series(['100', '200', 'python', '300.12', '400'])\n",
    "df= np.array(s1)\n",
    "df"
   ]
  },
  {
   "cell_type": "code",
   "execution_count": 117,
   "id": "2413eb01",
   "metadata": {
    "execution": {
     "iopub.execute_input": "2023-04-10T10:26:37.506792Z",
     "iopub.status.busy": "2023-04-10T10:26:37.505940Z",
     "iopub.status.idle": "2023-04-10T10:26:37.513762Z",
     "shell.execute_reply": "2023-04-10T10:26:37.513025Z"
    },
    "papermill": {
     "duration": 0.049593,
     "end_time": "2023-04-10T10:26:37.515538",
     "exception": false,
     "start_time": "2023-04-10T10:26:37.465945",
     "status": "completed"
    },
    "tags": []
   },
   "outputs": [
    {
     "data": {
      "text/plain": [
       "0       100\n",
       "1       200\n",
       "3    300.12\n",
       "4       400\n",
       "2    python\n",
       "dtype: object"
      ]
     },
     "execution_count": 117,
     "metadata": {},
     "output_type": "execute_result"
    }
   ],
   "source": [
    "#sort Series\n",
    "s = pd.Series(['100', '200', 'python', '300.12', '400'])\n",
    "s.sort_values(inplace=True)\n",
    "s\n"
   ]
  },
  {
   "cell_type": "code",
   "execution_count": 118,
   "id": "c2387f1e",
   "metadata": {
    "execution": {
     "iopub.execute_input": "2023-04-10T10:26:37.591918Z",
     "iopub.status.busy": "2023-04-10T10:26:37.591172Z",
     "iopub.status.idle": "2023-04-10T10:26:37.598147Z",
     "shell.execute_reply": "2023-04-10T10:26:37.597098Z"
    },
    "papermill": {
     "duration": 0.04708,
     "end_time": "2023-04-10T10:26:37.599954",
     "exception": false,
     "start_time": "2023-04-10T10:26:37.552874",
     "status": "completed"
    },
    "tags": []
   },
   "outputs": [
    {
     "name": "stdout",
     "output_type": "stream",
     "text": [
      "0       100\n",
      "1       200\n",
      "2    python\n",
      "3    300.12\n",
      "4       400\n",
      "0       400\n",
      "1     numpy\n",
      "dtype: object\n"
     ]
    }
   ],
   "source": [
    "#add elements to an existing series\n",
    "s = pd.Series(['100', '200', 'python', '300.12', '400'])\n",
    "s =pd.concat([s,pd.Series([400,\"numpy\"])])\n",
    "print(s)"
   ]
  },
  {
   "cell_type": "code",
   "execution_count": 119,
   "id": "065bd88f",
   "metadata": {
    "execution": {
     "iopub.execute_input": "2023-04-10T10:26:37.676771Z",
     "iopub.status.busy": "2023-04-10T10:26:37.676395Z",
     "iopub.status.idle": "2023-04-10T10:26:37.683604Z",
     "shell.execute_reply": "2023-04-10T10:26:37.682343Z"
    },
    "papermill": {
     "duration": 0.048081,
     "end_time": "2023-04-10T10:26:37.685606",
     "exception": false,
     "start_time": "2023-04-10T10:26:37.637525",
     "status": "completed"
    },
    "tags": []
   },
   "outputs": [
    {
     "name": "stdout",
     "output_type": "stream",
     "text": [
      "7      7\n",
      "8      8\n",
      "9      9\n",
      "10    10\n",
      "dtype: int64\n"
     ]
    }
   ],
   "source": [
    "#create a subset of series based on condition\n",
    "s = pd.Series([0,1,2,3,4,5,6,7,8,9,10])\n",
    "n=6\n",
    "z= s[s>n]\n",
    "print(z)"
   ]
  },
  {
   "cell_type": "code",
   "execution_count": 120,
   "id": "e8ce1e8d",
   "metadata": {
    "execution": {
     "iopub.execute_input": "2023-04-10T10:26:37.763646Z",
     "iopub.status.busy": "2023-04-10T10:26:37.763285Z",
     "iopub.status.idle": "2023-04-10T10:26:37.772594Z",
     "shell.execute_reply": "2023-04-10T10:26:37.771581Z"
    },
    "papermill": {
     "duration": 0.051585,
     "end_time": "2023-04-10T10:26:37.774571",
     "exception": false,
     "start_time": "2023-04-10T10:26:37.722986",
     "status": "completed"
    },
    "tags": []
   },
   "outputs": [
    {
     "data": {
      "text/plain": [
       "B    2\n",
       "C    3\n",
       "A    1\n",
       "E    5\n",
       "D    4\n",
       "dtype: int64"
      ]
     },
     "execution_count": 120,
     "metadata": {},
     "output_type": "execute_result"
    }
   ],
   "source": [
    "#change the order of index\n",
    "s = pd.Series(data = [1,2,3,4,5], index = ['A', 'B', 'C','D','E'])\n",
    "h=s.reindex(index=['B','C','A','E','D'])\n",
    "h"
   ]
  },
  {
   "cell_type": "code",
   "execution_count": 121,
   "id": "919834c9",
   "metadata": {
    "execution": {
     "iopub.execute_input": "2023-04-10T10:26:37.853358Z",
     "iopub.status.busy": "2023-04-10T10:26:37.852980Z",
     "iopub.status.idle": "2023-04-10T10:26:37.859449Z",
     "shell.execute_reply": "2023-04-10T10:26:37.858413Z"
    },
    "papermill": {
     "duration": 0.048111,
     "end_time": "2023-04-10T10:26:37.861274",
     "exception": false,
     "start_time": "2023-04-10T10:26:37.813163",
     "status": "completed"
    },
    "tags": []
   },
   "outputs": [
    {
     "data": {
      "text/plain": [
       "4.818181818181818"
      ]
     },
     "execution_count": 121,
     "metadata": {},
     "output_type": "execute_result"
    }
   ],
   "source": [
    "#create meand and standard deviation of a given series.\n",
    "s = pd.Series(data = [1,2,3,4,5,6,7,8,9,5,3])\n",
    "s.mean()\n"
   ]
  },
  {
   "cell_type": "code",
   "execution_count": 122,
   "id": "0db49d0e",
   "metadata": {
    "execution": {
     "iopub.execute_input": "2023-04-10T10:26:37.941358Z",
     "iopub.status.busy": "2023-04-10T10:26:37.940952Z",
     "iopub.status.idle": "2023-04-10T10:26:37.948301Z",
     "shell.execute_reply": "2023-04-10T10:26:37.946803Z"
    },
    "papermill": {
     "duration": 0.050511,
     "end_time": "2023-04-10T10:26:37.950779",
     "exception": false,
     "start_time": "2023-04-10T10:26:37.900268",
     "status": "completed"
    },
    "tags": []
   },
   "outputs": [
    {
     "data": {
      "text/plain": [
       "2.522624895547565"
      ]
     },
     "execution_count": 122,
     "metadata": {},
     "output_type": "execute_result"
    }
   ],
   "source": [
    "s.std()"
   ]
  },
  {
   "cell_type": "code",
   "execution_count": 123,
   "id": "a0a26a75",
   "metadata": {
    "execution": {
     "iopub.execute_input": "2023-04-10T10:26:38.029682Z",
     "iopub.status.busy": "2023-04-10T10:26:38.029009Z",
     "iopub.status.idle": "2023-04-10T10:26:38.039992Z",
     "shell.execute_reply": "2023-04-10T10:26:38.038608Z"
    },
    "papermill": {
     "duration": 0.052643,
     "end_time": "2023-04-10T10:26:38.042193",
     "exception": false,
     "start_time": "2023-04-10T10:26:37.989550",
     "status": "completed"
    },
    "tags": []
   },
   "outputs": [
    {
     "data": {
      "text/plain": [
       "0    1\n",
       "2    3\n",
       "4    5\n",
       "dtype: int64"
      ]
     },
     "execution_count": 123,
     "metadata": {},
     "output_type": "execute_result"
    }
   ],
   "source": [
    "s1 = pd.Series([1, 2, 3, 4, 5])\n",
    "s2 = pd.Series([2, 4, 6, 8, 10])\n",
    "s= s1[~s1.isin(s2)]\n",
    "s"
   ]
  },
  {
   "cell_type": "code",
   "execution_count": 124,
   "id": "90adcb97",
   "metadata": {
    "execution": {
     "iopub.execute_input": "2023-04-10T10:26:38.174844Z",
     "iopub.status.busy": "2023-04-10T10:26:38.174180Z",
     "iopub.status.idle": "2023-04-10T10:26:38.185960Z",
     "shell.execute_reply": "2023-04-10T10:26:38.184508Z"
    },
    "papermill": {
     "duration": 0.054468,
     "end_time": "2023-04-10T10:26:38.188194",
     "exception": false,
     "start_time": "2023-04-10T10:26:38.133726",
     "status": "completed"
    },
    "tags": []
   },
   "outputs": [
    {
     "data": {
      "text/plain": [
       "0   2015-01-01 00:00:00\n",
       "1   2016-10-02 00:00:00\n",
       "2   2018-03-07 00:00:00\n",
       "3   2014-05-06 00:00:00\n",
       "4   2016-04-12 00:00:00\n",
       "5   2019-04-06 11:20:00\n",
       "dtype: datetime64[ns]"
      ]
     },
     "execution_count": 124,
     "metadata": {},
     "output_type": "execute_result"
    }
   ],
   "source": [
    "date_series = pd.Series(['01 Jan 2015', '10-02-2016', '20180307', '2014/05/06', '2016-04-12', '2019-04-06T11:20'])\n",
    "date_time= pd.to_datetime(date_series)\n",
    "date_time"
   ]
  }
 ],
 "metadata": {
  "kernelspec": {
   "display_name": "Python 3",
   "language": "python",
   "name": "python3"
  },
  "language_info": {
   "codemirror_mode": {
    "name": "ipython",
    "version": 3
   },
   "file_extension": ".py",
   "mimetype": "text/x-python",
   "name": "python",
   "nbconvert_exporter": "python",
   "pygments_lexer": "ipython3",
   "version": "3.7.12"
  },
  "papermill": {
   "default_parameters": {},
   "duration": 20.053355,
   "end_time": "2023-04-10T10:26:38.847850",
   "environment_variables": {},
   "exception": null,
   "input_path": "__notebook__.ipynb",
   "output_path": "__notebook__.ipynb",
   "parameters": {},
   "start_time": "2023-04-10T10:26:18.794495",
   "version": "2.4.0"
  }
 },
 "nbformat": 4,
 "nbformat_minor": 5
}
